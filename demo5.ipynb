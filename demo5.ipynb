{
  "cells": [
    {
      "cell_type": "markdown",
      "metadata": {
        "id": "view-in-github",
        "colab_type": "text"
      },
      "source": [
        "<a href=\"https://colab.research.google.com/github/AnshumanDec2K/Python_Programming/blob/main/demo5.ipynb\" target=\"_parent\"><img src=\"https://colab.research.google.com/assets/colab-badge.svg\" alt=\"Open In Colab\"/></a>"
      ]
    },
    {
      "cell_type": "markdown",
      "source": [
        "# **This Notebook has the demo for basic Tuple, List and String operations**"
      ],
      "metadata": {
        "id": "F923iY4wObe6"
      }
    },
    {
      "cell_type": "code",
      "execution_count": 1,
      "metadata": {
        "colab": {
          "base_uri": "https://localhost:8080/"
        },
        "id": "7P9ZZW-FOI-b",
        "outputId": "cfabaedc-78a1-49f4-e7fc-c8c68de3359d"
      },
      "outputs": [
        {
          "output_type": "stream",
          "name": "stdout",
          "text": [
            "A tuple: (2, 3, 4, 5)\n",
            "First element of tuple: 2\n"
          ]
        }
      ],
      "source": [
        "#Tuples are immutable\n",
        "example_tuple = (2, 3, 4, 5)\n",
        "print('A tuple:', example_tuple)\n",
        "print('First element of tuple:', example_tuple[0])"
      ]
    },
    {
      "cell_type": "code",
      "execution_count": 2,
      "metadata": {
        "colab": {
          "base_uri": "https://localhost:8080/"
        },
        "id": "yDxDCpRUOI-e",
        "outputId": "edfcc774-de45-4476-e1ec-f1b69d61deb1"
      },
      "outputs": [
        {
          "output_type": "stream",
          "name": "stdout",
          "text": [
            "A list: [2, 3, 4, 5]\n",
            "First element of list: 2\n",
            "Appended list: [2, 3, 4, 5, 12]\n",
            "Modified list: [45, 3, 4, 5, 12]\n"
          ]
        }
      ],
      "source": [
        "# Lists are mutable\n",
        "example_list = [2, 3, 4, 5]\n",
        "print('A list:', example_list)\n",
        "print('First element of list:', example_list[0])\n",
        "example_list.append(12)\n",
        "print('Appended list:', example_list)\n",
        "example_list[0] = 45\n",
        "print('Modified list:', example_list)"
      ]
    },
    {
      "cell_type": "code",
      "execution_count": 3,
      "metadata": {
        "colab": {
          "base_uri": "https://localhost:8080/"
        },
        "id": "RrPf27enOI-f",
        "outputId": "4111e269-0920-436a-d1e9-72ac6b8ad151"
      },
      "outputs": [
        {
          "output_type": "stream",
          "name": "stdout",
          "text": [
            "Here is a string: ABCDEFGH\n",
            "First character: A\n",
            "Number of characters in text 8\n"
          ]
        }
      ],
      "source": [
        "# String are immutable, tuple of characters\n",
        "text = \"ABCDEFGH\"\n",
        "print('Here is a string:', text)\n",
        "print('First character:', text[0])\n",
        "print('Number of characters in text', len(text))"
      ]
    },
    {
      "cell_type": "code",
      "execution_count": 4,
      "metadata": {
        "colab": {
          "base_uri": "https://localhost:8080/"
        },
        "id": "Gxlto-xgOI-g",
        "outputId": "6ec9a958-fc31-4447-f818-378d646a47a2"
      },
      "outputs": [
        {
          "output_type": "stream",
          "name": "stdout",
          "text": [
            "A set: {1, 2, 4, 5, 6}\n"
          ]
        }
      ],
      "source": [
        "##Sets are a collection of unique unordered elements\n",
        "example_set = set([1,2,2,2,2,4,5,6,6,6])\n",
        "print('A set:', example_set)"
      ]
    },
    {
      "cell_type": "code",
      "execution_count": 5,
      "metadata": {
        "colab": {
          "base_uri": "https://localhost:8080/"
        },
        "id": "dIhXufc-OI-g",
        "outputId": "8988b514-d1be-4066-c70c-4995c0185b68"
      },
      "outputs": [
        {
          "output_type": "stream",
          "name": "stdout",
          "text": [
            "A dictionary: {'A': 'APPLE', 'B': 'BALL', 'C': 'CAT', 'D': 'DOLL'}\n",
            "Value associated to key C: CAT\n"
          ]
        }
      ],
      "source": [
        "# Dictionary contains key: value pair\n",
        "example_dictionary = {\"A\": \"APPLE\", \n",
        "                      \"B\": \"BALL\", \n",
        "                      \"C\": \"CAT\", \n",
        "                      \"D\": \"DOLL\"}\n",
        "print('A dictionary:', example_dictionary)\n",
        "print('Value associated to key C:', example_dictionary['C'])"
      ]
    },
    {
      "cell_type": "code",
      "execution_count": 6,
      "metadata": {
        "colab": {
          "base_uri": "https://localhost:8080/"
        },
        "id": "PYBe2doMOI-h",
        "outputId": "0ff75128-b2b9-4ebd-b37b-a674d65c91fa"
      },
      "outputs": [
        {
          "output_type": "stream",
          "name": "stdout",
          "text": [
            "Is 2 < 5? True\n",
            "Is 2 == 5? False\n",
            "Is 2 < 5 and 2 > 1? True\n",
            "x is equal to 2\n"
          ]
        }
      ],
      "source": [
        "x = 2\n",
        "print('Is 2 < 5?', x < 5)\n",
        "print('Is 2 == 5?', x == 5)\n",
        "print('Is 2 < 5 and 2 > 1?', (x < 5) & (x > 1))\n",
        "\n",
        "if x == 2:\n",
        "    print('x is equal to 2')"
      ]
    },
    {
      "cell_type": "code",
      "execution_count": 7,
      "metadata": {
        "colab": {
          "base_uri": "https://localhost:8080/"
        },
        "id": "4njbw6HLOI-i",
        "outputId": "a1c4cff5-f77a-4eda-c049-81af5304d808"
      },
      "outputs": [
        {
          "output_type": "stream",
          "name": "stdout",
          "text": [
            "The element in list is: A\n",
            "The element in list is: B\n",
            "The element in list is: C\n",
            "The element in list is: D\n",
            "The element in list is: E\n"
          ]
        }
      ],
      "source": [
        "example_list = ['A', 'B', 'C', 'D', 'E']\n",
        "\n",
        "## Looping through a list\n",
        "for element in example_list:\n",
        "    print(\"The element in list is:\", element)"
      ]
    }
  ],
  "metadata": {
    "celltoolbar": "Slideshow",
    "kernelspec": {
      "display_name": "Python 3",
      "language": "python",
      "name": "python3"
    },
    "language_info": {
      "codemirror_mode": {
        "name": "ipython",
        "version": 3
      },
      "file_extension": ".py",
      "mimetype": "text/x-python",
      "name": "python",
      "nbconvert_exporter": "python",
      "pygments_lexer": "ipython3",
      "version": "3.7.10"
    },
    "colab": {
      "name": "demo5.ipynb",
      "provenance": [],
      "collapsed_sections": [],
      "include_colab_link": true
    }
  },
  "nbformat": 4,
  "nbformat_minor": 0
}