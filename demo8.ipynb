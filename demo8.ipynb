{
  "cells": [
    {
      "cell_type": "markdown",
      "metadata": {
        "id": "view-in-github",
        "colab_type": "text"
      },
      "source": [
        "<a href=\"https://colab.research.google.com/github/AnshumanDec2K/Python_Programming/blob/main/demo8.ipynb\" target=\"_parent\"><img src=\"https://colab.research.google.com/assets/colab-badge.svg\" alt=\"Open In Colab\"/></a>"
      ]
    },
    {
      "cell_type": "markdown",
      "source": [
        "# This Notebook has the demo for file handling in python"
      ],
      "metadata": {
        "id": "jSlJh5N5vxwV"
      }
    },
    {
      "cell_type": "code",
      "execution_count": null,
      "metadata": {
        "id": "tShmoSu-qaWj"
      },
      "outputs": [],
      "source": [
        "path = '/content/test.txt'\n",
        "fileObj = open( path )"
      ]
    },
    {
      "cell_type": "code",
      "execution_count": null,
      "metadata": {
        "colab": {
          "base_uri": "https://localhost:8080/"
        },
        "id": "YmGlLJB7qaWn",
        "outputId": "5f1c719f-d8b6-4faa-a8c3-e71ae98b67ce"
      },
      "outputs": [
        {
          "output_type": "stream",
          "name": "stdout",
          "text": [
            "Lorem ipsum dolor\n",
            "\n",
            "sit amet consectetur adipisicing elit. \n",
            "\n",
            "Vero magnam rem quae error. Molestiae \n",
            "\n",
            "minus autem magnam, sapiente quidem fuga \n",
            "\n",
            "inventore suscipit ipsam ut? \n",
            "\n",
            "Ea fuga ducimus delectus molestiae fugit?\n",
            "Line Count: 6\n"
          ]
        }
      ],
      "source": [
        "fhand = open('test.txt')\n",
        "count = 0\n",
        "for line in fhand: \n",
        "    count = count + 1\n",
        "    print(line)\n",
        "print('Line Count:', count)"
      ]
    },
    {
      "cell_type": "code",
      "execution_count": null,
      "metadata": {
        "colab": {
          "base_uri": "https://localhost:8080/"
        },
        "id": "h2vkmHzRqaWo",
        "outputId": "7d8a2853-061d-4956-acaf-cb506c211d3c"
      },
      "outputs": [
        {
          "output_type": "stream",
          "name": "stdout",
          "text": [
            "Lorem ipsum dolor\n",
            "sit amet consectetur adipisicing elit. \n",
            "Vero magnam rem quae error. Molestiae \n",
            "minus autem magnam, sapiente quidem fuga \n",
            "inventore suscipit ipsam ut? \n",
            "Ea fuga ducimus delectus molestiae fugit?\n"
          ]
        }
      ],
      "source": [
        "fhand = open('test.txt')\n",
        "count = 0\n",
        "print(fhand.read())\n",
        "\n",
        "#print('Line Count:', count)"
      ]
    },
    {
      "cell_type": "code",
      "execution_count": null,
      "metadata": {
        "colab": {
          "base_uri": "https://localhost:8080/"
        },
        "id": "scpY0hjPqaWp",
        "outputId": "a4dff361-e2ac-42e8-923e-cc6369cb2a43"
      },
      "outputs": [
        {
          "output_type": "stream",
          "name": "stdout",
          "text": [
            "/content\n"
          ]
        }
      ],
      "source": [
        "import os\n",
        "print(os.getcwd())"
      ]
    },
    {
      "cell_type": "code",
      "execution_count": null,
      "metadata": {
        "colab": {
          "base_uri": "https://localhost:8080/"
        },
        "id": "pRbpxsc6qaWp",
        "outputId": "1ab87696-7ac9-4d20-82f1-5cf323b946c7"
      },
      "outputs": [
        {
          "output_type": "stream",
          "name": "stdout",
          "text": [
            "Enter the file name:  test.txt\n",
            "count: 0\n"
          ]
        }
      ],
      "source": [
        "fname = input('Enter the file name:  ')\n",
        "try: \n",
        "   fhand = open(fname)\n",
        "except: \n",
        "   print('File does not exist:', fname)   \n",
        "   \n",
        "count = 0\n",
        "for line in fhand: \n",
        "   if line.startswith('Subject:') :    \n",
        "      count = count + 1\n",
        "print('count:',count)"
      ]
    },
    {
      "cell_type": "code",
      "execution_count": null,
      "metadata": {
        "colab": {
          "base_uri": "https://localhost:8080/"
        },
        "id": "xigrbU7cqaWq",
        "outputId": "ecfc633b-8fc2-4876-9656-d813d34ae46b"
      },
      "outputs": [
        {
          "output_type": "stream",
          "name": "stdout",
          "text": [
            "@uct.ac.za\n",
            "@uct.ac.za\n"
          ]
        }
      ],
      "source": [
        "fhand = open('/content/mbox-short.txt')\n",
        "for line in fhand:  \n",
        "     line = line.rstrip() \n",
        "     if not '@uct.ac.za' in line : \n",
        "        continue \n",
        "     print(line)\n"
      ]
    },
    {
      "cell_type": "code",
      "execution_count": null,
      "metadata": {
        "id": "L0FiBQUnqaWu"
      },
      "outputs": [],
      "source": [
        "sales_log = open('spam_orders1.txt', 'x')\n",
        "sales_log.write('The Spam Van\\n')\n",
        "sales_log.write('Append Mode\\n')\n",
        "sales_log.write('Sales Log\\n')\n",
        "sales_log.close()"
      ]
    },
    {
      "cell_type": "code",
      "execution_count": null,
      "metadata": {
        "colab": {
          "base_uri": "https://localhost:8080/"
        },
        "id": "eC-K2XkxqaWt",
        "outputId": "ff2e6bc4-2909-4dbf-8f31-ee117474fba6"
      },
      "outputs": [
        {
          "output_type": "stream",
          "name": "stdout",
          "text": [
            "<_io.TextIOWrapper name='/content/spam_orders1.txt' mode='r' encoding='UTF-8'>\n"
          ]
        }
      ],
      "source": [
        "sales_log = open('/content/spam_orders1.txt', 'r')\n",
        "print(sales_log)\n",
        "for line in sales_log:  \n",
        "     line = line.rstrip() \n",
        "     if not '@uct.ac.za' in line : \n",
        "        continue \n",
        "     print(line)\n",
        "sales_log = open('spam_orders.txt', 'a')\n",
        "sales_log.write('The Spam Van\\n')\n",
        "sales_log.write('Append Mode\\n')\n",
        "sales_log.write('Sales Log\\n')\n",
        "sales_log.close()"
      ]
    },
    {
      "cell_type": "code",
      "execution_count": null,
      "metadata": {
        "colab": {
          "base_uri": "https://localhost:8080/"
        },
        "id": "oAoUsrYxqaWw",
        "outputId": "85a40da3-a74a-4ea6-e0f3-c4426b4ae1ea"
      },
      "outputs": [
        {
          "output_type": "execute_result",
          "data": {
            "text/plain": [
              "<_io.TextIOWrapper name='/content/test.txt' mode='r' encoding='UTF-8'>"
            ]
          },
          "metadata": {},
          "execution_count": 17
        }
      ],
      "source": [
        "open( \"/content/test.txt\", \"r\" ) # open for reading, default"
      ]
    },
    {
      "cell_type": "code",
      "execution_count": null,
      "metadata": {
        "colab": {
          "base_uri": "https://localhost:8080/"
        },
        "id": "4FInCdzdqaWx",
        "outputId": "97018702-2941-4bb9-e649-420cca737c2a"
      },
      "outputs": [
        {
          "output_type": "execute_result",
          "data": {
            "text/plain": [
              "['',\n",
              " '/content',\n",
              " '/env/python',\n",
              " '/usr/lib/python37.zip',\n",
              " '/usr/lib/python3.7',\n",
              " '/usr/lib/python3.7/lib-dynload',\n",
              " '/usr/local/lib/python3.7/dist-packages',\n",
              " '/usr/lib/python3/dist-packages',\n",
              " '/usr/local/lib/python3.7/dist-packages/IPython/extensions',\n",
              " '/root/.ipython']"
            ]
          },
          "metadata": {},
          "execution_count": 18
        }
      ],
      "source": [
        "import sys\n",
        "sys.path"
      ]
    },
    {
      "cell_type": "code",
      "execution_count": null,
      "metadata": {
        "collapsed": true,
        "colab": {
          "base_uri": "https://localhost:8080/"
        },
        "id": "pyM2nsHVqaWx",
        "outputId": "606379e5-2caf-4674-b979-63ce22f278c1"
      },
      "outputs": [
        {
          "output_type": "execute_result",
          "data": {
            "text/plain": [
              "<_io.TextIOWrapper name='myfile.txt' mode='w' encoding='UTF-8'>"
            ]
          },
          "metadata": {},
          "execution_count": 20
        }
      ],
      "source": [
        "open( \"myfile.txt\", \"w\" ) # open for writing (existing files will be overwritten)"
      ]
    },
    {
      "cell_type": "code",
      "execution_count": null,
      "metadata": {
        "collapsed": true,
        "colab": {
          "base_uri": "https://localhost:8080/"
        },
        "id": "7E9wi5sVqaWy",
        "outputId": "ac3983fe-3c76-4c28-a46d-bc9e5b5c3d1f"
      },
      "outputs": [
        {
          "output_type": "execute_result",
          "data": {
            "text/plain": [
              "<_io.TextIOWrapper name='myfile.txt' mode='a' encoding='UTF-8'>"
            ]
          },
          "metadata": {},
          "execution_count": 21
        }
      ],
      "source": [
        "open( \"myfile.txt\", \"a\" ) # open for appending"
      ]
    },
    {
      "cell_type": "code",
      "execution_count": null,
      "metadata": {
        "collapsed": true,
        "id": "J5iE0o8CqaWy"
      },
      "outputs": [],
      "source": [
        "fileObj.close()"
      ]
    },
    {
      "cell_type": "code",
      "execution_count": null,
      "metadata": {
        "collapsed": true,
        "colab": {
          "base_uri": "https://localhost:8080/",
          "height": 208
        },
        "id": "Hak-hAiyqaWz",
        "outputId": "23ed5977-e407-4e67-cab6-ecf0b102a436"
      },
      "outputs": [
        {
          "output_type": "error",
          "ename": "FileNotFoundError",
          "evalue": "ignored",
          "traceback": [
            "\u001b[0;31m---------------------------------------------------------------------------\u001b[0m",
            "\u001b[0;31mFileNotFoundError\u001b[0m                         Traceback (most recent call last)",
            "\u001b[0;32m<ipython-input-23-59e48a366286>\u001b[0m in \u001b[0;36m<module>\u001b[0;34m()\u001b[0m\n\u001b[0;32m----> 1\u001b[0;31m \u001b[0mfileObj\u001b[0m \u001b[0;34m=\u001b[0m \u001b[0mopen\u001b[0m\u001b[0;34m(\u001b[0m \u001b[0;34m\"datafile.txt\"\u001b[0m \u001b[0;34m)\u001b[0m\u001b[0;34m\u001b[0m\u001b[0;34m\u001b[0m\u001b[0m\n\u001b[0m\u001b[1;32m      2\u001b[0m \u001b[0mprint\u001b[0m\u001b[0;34m(\u001b[0m\u001b[0mfileObj\u001b[0m\u001b[0;34m.\u001b[0m\u001b[0mread\u001b[0m\u001b[0;34m(\u001b[0m\u001b[0;34m)\u001b[0m\u001b[0;34m)\u001b[0m \u001b[0;31m# everything\u001b[0m\u001b[0;34m\u001b[0m\u001b[0;34m\u001b[0m\u001b[0m\n\u001b[1;32m      3\u001b[0m \u001b[0mfileObj\u001b[0m\u001b[0;34m.\u001b[0m\u001b[0mclose\u001b[0m\u001b[0;34m(\u001b[0m\u001b[0;34m)\u001b[0m\u001b[0;34m\u001b[0m\u001b[0;34m\u001b[0m\u001b[0m\n",
            "\u001b[0;31mFileNotFoundError\u001b[0m: [Errno 2] No such file or directory: 'datafile.txt'"
          ]
        }
      ],
      "source": [
        "fileObj = open( \"datafile.txt\" )\n",
        "print(fileObj.read()) # everything\n",
        "fileObj.close()"
      ]
    },
    {
      "cell_type": "code",
      "execution_count": null,
      "metadata": {
        "colab": {
          "base_uri": "https://localhost:8080/"
        },
        "id": "UbgDqieCqaWz",
        "outputId": "ad2529fe-9e9c-4b40-cb35-162731afa3ea"
      },
      "outputs": [
        {
          "output_type": "stream",
          "name": "stdout",
          "text": [
            "1st line: Lorem ipsum dolor\n",
            "\n",
            "2nd line: sit amet consectetur adipisicing elit. \n",
            "\n",
            "3rd line: Vero magnam rem quae error. Molestiae \n",
            "\n",
            "4th line: minus autem magnam, sapiente quidem fuga \n",
            "\n",
            "5th line: inventore suscipit ipsam ut? \n",
            "\n",
            "6th line: Ea fuga ducimus delectus molestiae fugit?\n"
          ]
        }
      ],
      "source": [
        "# one line at a time\n",
        "fileObj = open( \"/content/test.txt\" )\n",
        "print(\"1st line:\", fileObj.readline())\n",
        "print(\"2nd line:\", fileObj.readline())\n",
        "print(\"3rd line:\", fileObj.readline())\n",
        "print(\"4th line:\", fileObj.readline())\n",
        "print(\"5th line:\", fileObj.readline())\n",
        "print(\"6th line:\", fileObj.readline())\n",
        "fileObj.close()"
      ]
    },
    {
      "cell_type": "code",
      "execution_count": null,
      "metadata": {
        "colab": {
          "base_uri": "https://localhost:8080/"
        },
        "id": "HTTYAIg3qaWz",
        "outputId": "7a93a7e2-bb15-4094-f084-a2f1b360ddb3"
      },
      "outputs": [
        {
          "output_type": "stream",
          "name": "stdout",
          "text": [
            "['Lorem ipsum dolor\\n', 'sit amet consectetur adipisicing elit. \\n', 'Vero magnam rem quae error. Molestiae \\n', 'minus autem magnam, sapiente quidem fuga \\n', 'inventore suscipit ipsam ut? \\n', 'Ea fuga ducimus delectus molestiae fugit?']\n",
            "<class 'list'>\n",
            "The file has 6 lines\n"
          ]
        }
      ],
      "source": [
        "# all lines\n",
        "fileObj = open( \"/content/test.txt\" )\n",
        "\n",
        "lines = fileObj.readlines()\n",
        "print(lines)\n",
        "print(type(lines))\n",
        "\n",
        "print(\"The file has\", len(lines), \"lines\")\n",
        "\n",
        "fileObj.close()"
      ]
    },
    {
      "cell_type": "code",
      "execution_count": null,
      "metadata": {
        "colab": {
          "base_uri": "https://localhost:8080/"
        },
        "id": "3k3nGQXlqaW0",
        "outputId": "29166f24-73b1-441f-d88d-12fda1de29ab"
      },
      "outputs": [
        {
          "output_type": "stream",
          "name": "stdout",
          "text": [
            "Lorem ipsum dolor\n",
            "sit amet consectetur adipisicing elit. \n",
            "Vero magnam rem quae error. Molestiae \n",
            "minus autem magnam, sapiente quidem fuga \n",
            "inventore suscipit ipsam ut? \n",
            "Ea fuga ducimus delectus molestiae fugit?\n",
            "<class 'str'>\n",
            "The file has 210 chracters\n"
          ]
        }
      ],
      "source": [
        "fileObj = open( \"/content/test.txt\" )\n",
        "lines = fileObj.read()\n",
        "print(lines)\n",
        "print(type(lines))\n",
        "print(\"The file has\", len(lines), \"chracters\")\n",
        "fileObj.close()"
      ]
    },
    {
      "cell_type": "code",
      "execution_count": null,
      "metadata": {
        "colab": {
          "base_uri": "https://localhost:8080/"
        },
        "id": "_ym67AiWqaW0",
        "outputId": "bbd6a39e-80a0-496f-9358-65059652693c"
      },
      "outputs": [
        {
          "output_type": "stream",
          "name": "stdout",
          "text": [
            "<class 'list'>\n",
            "LOREM IPSUM DOLOR\n",
            "SIT AMET CONSECTETUR ADIPISICING ELIT.\n",
            "VERO MAGNAM REM QUAE ERROR. MOLESTIAE\n",
            "MINUS AUTEM MAGNAM, SAPIENTE QUIDEM FUGA\n",
            "INVENTORE SUSCIPIT IPSAM UT?\n",
            "EA FUGA DUCIMUS DELECTUS MOLESTIAE FUGIT?\n"
          ]
        }
      ],
      "source": [
        "# as an iterable\n",
        "fileObj = open( \"/content/test.txt\" )\n",
        "lines = fileObj.readlines()\n",
        "print(type(lines))\n",
        "for line in lines:\n",
        "    print(line.rstrip().upper())\n",
        "fileObj.close()\n",
        "\n",
        "# WAP to print only \"O\" in \"HELLO\"\n",
        "# WAP to print only \"I\" in \"I AM FINE\""
      ]
    },
    {
      "cell_type": "code",
      "execution_count": null,
      "metadata": {
        "colab": {
          "base_uri": "https://localhost:8080/"
        },
        "id": "nNOaBEUOqaW1",
        "outputId": "c61899e8-d471-42e5-a108-c01229340a76"
      },
      "outputs": [
        {
          "output_type": "stream",
          "name": "stdout",
          "text": [
            "Enter the price: 76\n",
            "Price = 76.0\n"
          ]
        }
      ],
      "source": [
        "price = input(\"Enter the price: \")\n",
        "price = float(price) \n",
        "print('Price =', price) "
      ]
    },
    {
      "cell_type": "code",
      "execution_count": null,
      "metadata": {
        "colab": {
          "base_uri": "https://localhost:8080/"
        },
        "id": "a1iOMzf_qaW1",
        "outputId": "3b5aba39-e555-431d-f1ac-d7c1cc1bf6cc"
      },
      "outputs": [
        {
          "output_type": "stream",
          "name": "stdout",
          "text": [
            "Enter the price: seven\n",
            "could not convert string to float: 'seven'\n"
          ]
        }
      ],
      "source": [
        "price = input(\"Enter the price: \")\n",
        "try: \n",
        "    price = float(price) \n",
        "    print('Price =', price) \n",
        "except ValueError as err : \n",
        "    print(err )"
      ]
    },
    {
      "cell_type": "code",
      "execution_count": null,
      "metadata": {
        "colab": {
          "base_uri": "https://localhost:8080/"
        },
        "id": "sAms6qIXqaW2",
        "outputId": "f03b9de4-c6e7-440f-f4ea-5e0fffd779ec"
      },
      "outputs": [
        {
          "output_type": "stream",
          "name": "stdout",
          "text": [
            "348\n",
            "1.7320508075688772\n"
          ]
        }
      ],
      "source": [
        "import random\n",
        "ticket = random.randint(1, 1000) \n",
        "print(ticket)\n",
        "import math \n",
        "answer = math.sqrt(3) \n",
        "print(answer)"
      ]
    },
    {
      "cell_type": "code",
      "execution_count": null,
      "metadata": {
        "colab": {
          "base_uri": "https://localhost:8080/"
        },
        "id": "-2uc2vLJqaW2",
        "outputId": "ebc70611-6576-421f-ebaf-57b9e2351e29"
      },
      "outputs": [
        {
          "output_type": "stream",
          "name": "stdout",
          "text": [
            "3: 'Lorem ipsum dolor\\n'\n",
            "4: 'sit amet consectetur adipisicing elit. \\n'\n",
            "5: 'Vero magnam rem quae error. Molestiae \\n'\n",
            "6: 'minus autem magnam, sapiente quidem fuga \\n'\n",
            "7: 'inventore suscipit ipsam ut? \\n'\n",
            "8: 'Ea fuga ducimus delectus molestiae fugit?'\n"
          ]
        }
      ],
      "source": [
        "# fileObj will be closed when leaving the block\n",
        "with open( \"test.txt\" ) as fileObj:\n",
        "    for ( i, line ) in enumerate( fileObj, start = 3 ):\n",
        "        print(\"%s: %r\" % ( i, line ))"
      ]
    },
    {
      "cell_type": "code",
      "execution_count": null,
      "metadata": {
        "id": "5poRaaGKqaW2"
      },
      "outputs": [],
      "source": [
        "marks = {\n",
        "    'Luttapi': 43,\n",
        "    'Dagini': 32,\n",
        "    'Mayavi': 34\n",
        "}\n",
        "\n",
        "with open( \"out.txt\", \"w\" ) as output:\n",
        "    output.write(\"Name\\tMark\\n\")\n",
        "\n",
        "    for mark in marks:\n",
        "        line = \"\\t\".join( [ mark, str(marks[mark]) ] )\n",
        "        output.write(line + \"\\n\")"
      ]
    },
    {
      "cell_type": "code",
      "execution_count": null,
      "metadata": {
        "colab": {
          "base_uri": "https://localhost:8080/"
        },
        "id": "0VgMx_daqaW3",
        "outputId": "5db07281-99d8-48a7-9145-3dbd8a039ad7"
      },
      "outputs": [
        {
          "output_type": "stream",
          "name": "stdout",
          "text": [
            "[['sit', 'amet', 'consectetur', 'adipisicing', 'elit.'], ['Vero', 'magnam', 'rem', 'quae', 'error.', 'Molestiae'], ['minus', 'autem', 'magnam,', 'sapiente', 'quidem', 'fuga'], ['inventore', 'suscipit', 'ipsam', 'ut?'], ['Ea', 'fuga', 'ducimus', 'delectus', 'molestiae', 'fugit?']]\n"
          ]
        }
      ],
      "source": [
        "results = []\n",
        "\n",
        "with open(\"test.txt\", \"r\") as data:\n",
        "    header = data.readline()\n",
        "    for line in data:\n",
        "        line = line.strip()\n",
        "        results.append(line.split(\" \"))\n",
        "        \n",
        "print(results)"
      ]
    },
    {
      "cell_type": "code",
      "execution_count": null,
      "metadata": {
        "id": "2RUaisBmqaW3"
      },
      "outputs": [],
      "source": [
        "mydata = [{'Organism': 'Human', 'Index': 1, 'Score': 1.076}, \n",
        "          {'Organism': 'Mouse', 'Index': 2, 'Score': 1.202}, \n",
        "          {'Organism': 'Frog', 'Index': 3, 'Score': 2.2362}, \n",
        "          {'Organism': 'Fly', 'Index': 4, 'Score': 0.9853}]\n",
        "\n",
        "with open('mydata.csv', 'w') as output:\n",
        "    # write a header\n",
        "    header = \",\".join(['Index', 'Organism', 'Score'])\n",
        "    output.write(header + \"\\n\")\n",
        "    for row in mydata:\n",
        "        line = \",\".join([str(row['Index']), row['Organism'], str(row['Score'])])\n",
        "        output.write(line + \"\\n\")"
      ]
    },
    {
      "cell_type": "code",
      "execution_count": null,
      "metadata": {
        "colab": {
          "base_uri": "https://localhost:8080/"
        },
        "id": "q3K2t0x2qaW3",
        "outputId": "536fca86-6cdb-43a4-e848-6fc8a1dd7e8f"
      },
      "outputs": [
        {
          "output_type": "stream",
          "name": "stdout",
          "text": [
            "3.141592653589793 2.718281828459045\n"
          ]
        }
      ],
      "source": [
        "import math\n",
        "print(math.pi, math.e)"
      ]
    },
    {
      "cell_type": "code",
      "execution_count": null,
      "metadata": {
        "colab": {
          "base_uri": "https://localhost:8080/"
        },
        "id": "Eig2lw8YqaW4",
        "outputId": "4758f576-49f3-4b43-9fbd-516d4249c4f6"
      },
      "outputs": [
        {
          "output_type": "stream",
          "name": "stdout",
          "text": [
            "3.141592653589793 2.718281828459045\n"
          ]
        }
      ],
      "source": [
        "import math as m\n",
        "print(m.pi, m.e)"
      ]
    },
    {
      "cell_type": "code",
      "execution_count": null,
      "metadata": {
        "colab": {
          "base_uri": "https://localhost:8080/"
        },
        "id": "Gm23DgSRqaW4",
        "outputId": "40c70fb6-f0d9-4c71-a30a-534c27010b3a"
      },
      "outputs": [
        {
          "output_type": "stream",
          "name": "stdout",
          "text": [
            "3.141592653589793 2.718281828459045\n"
          ]
        }
      ],
      "source": [
        "from math import pi, e\n",
        "print(pi, e)"
      ]
    },
    {
      "cell_type": "code",
      "execution_count": null,
      "metadata": {
        "id": "0QdEtfIhqaW4"
      },
      "outputs": [],
      "source": [
        "from math import pi\n",
        "from math import e"
      ]
    },
    {
      "cell_type": "code",
      "execution_count": null,
      "metadata": {
        "colab": {
          "base_uri": "https://localhost:8080/"
        },
        "id": "Wh5AQQfnqaW4",
        "outputId": "e4afe40d-f2e6-4786-9fa1-3f71b234af07"
      },
      "outputs": [
        {
          "output_type": "execute_result",
          "data": {
            "text/plain": [
              "['__doc__',\n",
              " '__loader__',\n",
              " '__name__',\n",
              " '__package__',\n",
              " '__spec__',\n",
              " 'acos',\n",
              " 'acosh',\n",
              " 'asin',\n",
              " 'asinh',\n",
              " 'atan',\n",
              " 'atan2',\n",
              " 'atanh',\n",
              " 'ceil',\n",
              " 'copysign',\n",
              " 'cos',\n",
              " 'cosh',\n",
              " 'degrees',\n",
              " 'e',\n",
              " 'erf',\n",
              " 'erfc',\n",
              " 'exp',\n",
              " 'expm1',\n",
              " 'fabs',\n",
              " 'factorial',\n",
              " 'floor',\n",
              " 'fmod',\n",
              " 'frexp',\n",
              " 'fsum',\n",
              " 'gamma',\n",
              " 'gcd',\n",
              " 'hypot',\n",
              " 'inf',\n",
              " 'isclose',\n",
              " 'isfinite',\n",
              " 'isinf',\n",
              " 'isnan',\n",
              " 'ldexp',\n",
              " 'lgamma',\n",
              " 'log',\n",
              " 'log10',\n",
              " 'log1p',\n",
              " 'log2',\n",
              " 'modf',\n",
              " 'nan',\n",
              " 'pi',\n",
              " 'pow',\n",
              " 'radians',\n",
              " 'remainder',\n",
              " 'sin',\n",
              " 'sinh',\n",
              " 'sqrt',\n",
              " 'tan',\n",
              " 'tanh',\n",
              " 'tau',\n",
              " 'trunc']"
            ]
          },
          "metadata": {},
          "execution_count": 40
        }
      ],
      "source": [
        "import math\n",
        "dir(math)"
      ]
    },
    {
      "cell_type": "code",
      "execution_count": null,
      "metadata": {
        "colab": {
          "base_uri": "https://localhost:8080/"
        },
        "id": "BmJsB4wpqaW4",
        "outputId": "07f9a68d-a1be-4ae6-b80e-f47a327611f8"
      },
      "outputs": [
        {
          "output_type": "execute_result",
          "data": {
            "text/plain": [
              "['__add__',\n",
              " '__class__',\n",
              " '__contains__',\n",
              " '__delattr__',\n",
              " '__dir__',\n",
              " '__doc__',\n",
              " '__eq__',\n",
              " '__format__',\n",
              " '__ge__',\n",
              " '__getattribute__',\n",
              " '__getitem__',\n",
              " '__getnewargs__',\n",
              " '__gt__',\n",
              " '__hash__',\n",
              " '__init__',\n",
              " '__init_subclass__',\n",
              " '__iter__',\n",
              " '__le__',\n",
              " '__len__',\n",
              " '__lt__',\n",
              " '__mod__',\n",
              " '__mul__',\n",
              " '__ne__',\n",
              " '__new__',\n",
              " '__reduce__',\n",
              " '__reduce_ex__',\n",
              " '__repr__',\n",
              " '__rmod__',\n",
              " '__rmul__',\n",
              " '__setattr__',\n",
              " '__sizeof__',\n",
              " '__str__',\n",
              " '__subclasshook__',\n",
              " 'capitalize',\n",
              " 'casefold',\n",
              " 'center',\n",
              " 'count',\n",
              " 'encode',\n",
              " 'endswith',\n",
              " 'expandtabs',\n",
              " 'find',\n",
              " 'format',\n",
              " 'format_map',\n",
              " 'index',\n",
              " 'isalnum',\n",
              " 'isalpha',\n",
              " 'isascii',\n",
              " 'isdecimal',\n",
              " 'isdigit',\n",
              " 'isidentifier',\n",
              " 'islower',\n",
              " 'isnumeric',\n",
              " 'isprintable',\n",
              " 'isspace',\n",
              " 'istitle',\n",
              " 'isupper',\n",
              " 'join',\n",
              " 'ljust',\n",
              " 'lower',\n",
              " 'lstrip',\n",
              " 'maketrans',\n",
              " 'partition',\n",
              " 'replace',\n",
              " 'rfind',\n",
              " 'rindex',\n",
              " 'rjust',\n",
              " 'rpartition',\n",
              " 'rsplit',\n",
              " 'rstrip',\n",
              " 'split',\n",
              " 'splitlines',\n",
              " 'startswith',\n",
              " 'strip',\n",
              " 'swapcase',\n",
              " 'title',\n",
              " 'translate',\n",
              " 'upper',\n",
              " 'zfill']"
            ]
          },
          "metadata": {},
          "execution_count": 41
        }
      ],
      "source": [
        "dir(\"mystring\")"
      ]
    },
    {
      "cell_type": "code",
      "execution_count": null,
      "metadata": {
        "colab": {
          "base_uri": "https://localhost:8080/"
        },
        "id": "DBmfc2eHqaW5",
        "outputId": "9fe6221c-6a84-4799-a798-400428fe3454"
      },
      "outputs": [
        {
          "output_type": "execute_result",
          "data": {
            "text/plain": [
              "['__add__',\n",
              " '__class__',\n",
              " '__contains__',\n",
              " '__delattr__',\n",
              " '__dir__',\n",
              " '__doc__',\n",
              " '__eq__',\n",
              " '__format__',\n",
              " '__ge__',\n",
              " '__getattribute__',\n",
              " '__getitem__',\n",
              " '__getnewargs__',\n",
              " '__gt__',\n",
              " '__hash__',\n",
              " '__init__',\n",
              " '__init_subclass__',\n",
              " '__iter__',\n",
              " '__le__',\n",
              " '__len__',\n",
              " '__lt__',\n",
              " '__mod__',\n",
              " '__mul__',\n",
              " '__ne__',\n",
              " '__new__',\n",
              " '__reduce__',\n",
              " '__reduce_ex__',\n",
              " '__repr__',\n",
              " '__rmod__',\n",
              " '__rmul__',\n",
              " '__setattr__',\n",
              " '__sizeof__',\n",
              " '__str__',\n",
              " '__subclasshook__',\n",
              " 'capitalize',\n",
              " 'casefold',\n",
              " 'center',\n",
              " 'count',\n",
              " 'encode',\n",
              " 'endswith',\n",
              " 'expandtabs',\n",
              " 'find',\n",
              " 'format',\n",
              " 'format_map',\n",
              " 'index',\n",
              " 'isalnum',\n",
              " 'isalpha',\n",
              " 'isascii',\n",
              " 'isdecimal',\n",
              " 'isdigit',\n",
              " 'isidentifier',\n",
              " 'islower',\n",
              " 'isnumeric',\n",
              " 'isprintable',\n",
              " 'isspace',\n",
              " 'istitle',\n",
              " 'isupper',\n",
              " 'join',\n",
              " 'ljust',\n",
              " 'lower',\n",
              " 'lstrip',\n",
              " 'maketrans',\n",
              " 'partition',\n",
              " 'replace',\n",
              " 'rfind',\n",
              " 'rindex',\n",
              " 'rjust',\n",
              " 'rpartition',\n",
              " 'rsplit',\n",
              " 'rstrip',\n",
              " 'split',\n",
              " 'splitlines',\n",
              " 'startswith',\n",
              " 'strip',\n",
              " 'swapcase',\n",
              " 'title',\n",
              " 'translate',\n",
              " 'upper',\n",
              " 'zfill']"
            ]
          },
          "metadata": {},
          "execution_count": 42
        }
      ],
      "source": [
        "dir(str)"
      ]
    },
    {
      "cell_type": "code",
      "execution_count": null,
      "metadata": {
        "colab": {
          "base_uri": "https://localhost:8080/"
        },
        "id": "hgsT4i4bqaW5",
        "outputId": "eee2a68f-701c-4a38-c39a-dd54e553269d"
      },
      "outputs": [
        {
          "output_type": "stream",
          "name": "stdout",
          "text": [
            "Help on method_descriptor:\n",
            "\n",
            "title(self, /)\n",
            "    Return a version of the string where each word is titlecased.\n",
            "    \n",
            "    More specifically, words start with uppercased characters and all remaining\n",
            "    cased characters have lower case.\n",
            "\n"
          ]
        }
      ],
      "source": [
        "help(str.title)"
      ]
    },
    {
      "cell_type": "code",
      "execution_count": null,
      "metadata": {
        "colab": {
          "base_uri": "https://localhost:8080/"
        },
        "id": "RfjYY5wrqaW5",
        "outputId": "587a3782-a4d9-470e-92a5-2da57346365b"
      },
      "outputs": [
        {
          "output_type": "stream",
          "name": "stdout",
          "text": [
            "['Lorem', 'ipsum', 'dolor']\n",
            "['sit', 'amet', 'consectetur', 'adipisicing', 'elit.', '']\n",
            "['Vero', 'magnam', 'rem', 'quae', 'error.', 'Molestiae', '']\n",
            "['minus', 'autem', 'magnam,', 'sapiente', 'quidem', 'fuga', '']\n",
            "['inventore', 'suscipit', 'ipsam', 'ut?', '']\n",
            "['Ea', 'fuga', 'ducimus', 'delectus', 'molestiae', 'fugit?']\n"
          ]
        }
      ],
      "source": [
        "import csv\n",
        "with open(\"/content/test.txt\") as f:\n",
        "    reader = csv.reader(f, delimiter = \" \") # default delimiter is \",\"\n",
        "    for row in reader:\n",
        "        print(row)"
      ]
    },
    {
      "cell_type": "code",
      "execution_count": null,
      "metadata": {
        "collapsed": true,
        "colab": {
          "base_uri": "https://localhost:8080/"
        },
        "id": "BFGvnI5yqaW5",
        "outputId": "54f1f280-8cde-4927-999e-1a57d2ea9087"
      },
      "outputs": [
        {
          "output_type": "stream",
          "name": "stdout",
          "text": [
            "OrderedDict([('Index,Organism,Score', '1,Human,1.076')])\n",
            "OrderedDict([('Index,Organism,Score', '2,Mouse,1.202')])\n",
            "OrderedDict([('Index,Organism,Score', '3,Frog,2.2362')])\n",
            "OrderedDict([('Index,Organism,Score', '4,Fly,0.9853')])\n"
          ]
        }
      ],
      "source": [
        "with open(\"/content/mydata.csv\") as f:\n",
        "    reader = csv.DictReader(f, delimiter = \" \")\n",
        "    for row in reader:\n",
        "        print(row)"
      ]
    },
    {
      "cell_type": "code",
      "execution_count": null,
      "metadata": {
        "collapsed": true,
        "colab": {
          "base_uri": "https://localhost:8080/"
        },
        "id": "UlFo55hiqaW5",
        "outputId": "04d1e46e-332b-40ea-ea55-bfb6908b6dc2"
      },
      "outputs": [
        {
          "output_type": "stream",
          "name": "stdout",
          "text": [
            "Index\tOrganism\tScore\n",
            "1\tHuman\t1.076\n",
            "2\tMouse\t1.202\n",
            "3\tFrog\t2.2362\n",
            "4\tFly\t0.9853\n",
            "\n"
          ]
        }
      ],
      "source": [
        "# Write tab delimited files using the csv module\n",
        "import csv\n",
        "\n",
        "mydata = [\n",
        "    ['1', 'Human', '1.076'], \n",
        "    ['2', 'Mouse', '1.202'], \n",
        "    ['3', 'Frog', '2.2362'], \n",
        "    ['4', 'Fly', '0.9853']\n",
        "]\n",
        "\n",
        "with open(\"csvdata.tsv\", \"w\") as f:\n",
        "    writer = csv.writer(f, delimiter='\\t' )\n",
        "    writer.writerow( [ \"Index\", \"Organism\", \"Score\" ] ) # write header\n",
        "    for record in mydata:\n",
        "        writer.writerow( record )\n",
        "\n",
        "# Open the output file and print out its content\n",
        "with open(\"csvdata.tsv\") as f:\n",
        "    print(f.read())"
      ]
    },
    {
      "cell_type": "code",
      "execution_count": null,
      "metadata": {
        "collapsed": true,
        "colab": {
          "base_uri": "https://localhost:8080/"
        },
        "id": "TFBtpXxBqaW6",
        "outputId": "daa96f38-9da7-466c-8690-4d0e9360a52d"
      },
      "outputs": [
        {
          "output_type": "stream",
          "name": "stdout",
          "text": [
            "Index\tScore\tOrganism\n",
            "1\t1.076\tHuman\n",
            "2\t1.202\tMouse\n",
            "3\t2.2362\tFrog\n",
            "4\t0.9853\tFly\n",
            "\n"
          ]
        }
      ],
      "source": [
        "# Write delimited files using the csv module from a list of dictionaries \n",
        "import csv\n",
        "\n",
        "mydata = [\n",
        "    {'Index': '1', 'Score': '1.076', 'Organism': 'Human'}, \n",
        "    {'Index': '2', 'Score': '1.202', 'Organism': 'Mouse'}, \n",
        "    {'Index': '3', 'Score': '2.2362', 'Organism': 'Frog'}, \n",
        "    {'Index': '4', 'Score': '0.9853', 'Organism': 'Fly'}\n",
        "]\n",
        "\n",
        "with open(\"csvdictdata.tsv\", \"w\") as f:\n",
        "    writer = csv.DictWriter(f, mydata[0].keys(), delimiter='\\t')\n",
        "    writer.writeheader() # write header\n",
        "\n",
        "    for record in mydata:\n",
        "        writer.writerow( record )\n",
        "\n",
        "# Open the output file and print out its content\n",
        "with open(\"csvdictdata.tsv\") as f:\n",
        "    print(f.read())"
      ]
    },
    {
      "cell_type": "code",
      "execution_count": null,
      "metadata": {
        "collapsed": true,
        "colab": {
          "base_uri": "https://localhost:8080/",
          "height": 35
        },
        "id": "0hzULafFqaW6",
        "outputId": "534deef1-9733-41a2-aa41-cffa0b6be0a7"
      },
      "outputs": [
        {
          "output_type": "execute_result",
          "data": {
            "application/vnd.google.colaboratory.intrinsic+json": {
              "type": "string"
            },
            "text/plain": [
              "'data/mydata.txt'"
            ]
          },
          "metadata": {},
          "execution_count": 49
        }
      ],
      "source": [
        "import os.path\n",
        "os.path.join(\"data\", \"mydata.txt\")\n",
        "# data/mydata.txt - Unix\n",
        "# data\\mydata.txt - Windows"
      ]
    },
    {
      "cell_type": "code",
      "execution_count": null,
      "metadata": {
        "collapsed": true,
        "colab": {
          "base_uri": "https://localhost:8080/"
        },
        "id": "lQ1UWxPuqaW6",
        "outputId": "5854c7b3-d041-4b0e-f8c8-8cec02c9e7f4"
      },
      "outputs": [
        {
          "output_type": "stream",
          "name": "stdout",
          "text": [
            "file /content/mydata.csv exists\n",
            "Index,Organism,Score\n",
            "1,Human,1.076\n",
            "2,Mouse,1.202\n",
            "3,Frog,2.2362\n",
            "4,Fly,0.9853\n",
            "\n"
          ]
        }
      ],
      "source": [
        "import os.path\n",
        "data_file = os.path.join(\"data\", \"/content/mydata.csv\")\n",
        "if os.path.exists(data_file):\n",
        "    print(\"file\", data_file, \"exists\")\n",
        "    with open(data_file) as f:\n",
        "        print(f.read())\n",
        "else:\n",
        "    print(\"file\", data_file, \"not found!\")"
      ]
    }
  ],
  "metadata": {
    "kernelspec": {
      "display_name": "Python 3",
      "language": "python",
      "name": "python3"
    },
    "language_info": {
      "codemirror_mode": {
        "name": "ipython",
        "version": 3
      },
      "file_extension": ".py",
      "mimetype": "text/x-python",
      "name": "python",
      "nbconvert_exporter": "python",
      "pygments_lexer": "ipython3",
      "version": "3.7.10"
    },
    "colab": {
      "name": "demo8.ipynb",
      "provenance": [],
      "collapsed_sections": [],
      "include_colab_link": true
    }
  },
  "nbformat": 4,
  "nbformat_minor": 0
}