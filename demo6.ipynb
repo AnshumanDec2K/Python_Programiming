{
  "cells": [
    {
      "cell_type": "markdown",
      "metadata": {
        "id": "view-in-github",
        "colab_type": "text"
      },
      "source": [
        "<a href=\"https://colab.research.google.com/github/AnshumanDec2K/Python_Programming/blob/main/demo6.ipynb\" target=\"_parent\"><img src=\"https://colab.research.google.com/assets/colab-badge.svg\" alt=\"Open In Colab\"/></a>"
      ]
    },
    {
      "cell_type": "markdown",
      "source": [
        "## **This Notebook has the demo for more operations on Tuple, List and String and some basic dictionary operations**"
      ],
      "metadata": {
        "id": "i_d31R3UV-cz"
      }
    },
    {
      "cell_type": "code",
      "execution_count": 9,
      "metadata": {
        "colab": {
          "base_uri": "https://localhost:8080/"
        },
        "id": "fwyAXbeESgyc",
        "outputId": "308906da-a1db-4666-c6d1-c8220118695e"
      },
      "outputs": [
        {
          "output_type": "stream",
          "name": "stdout",
          "text": [
            "spam\n",
            "['spam', 'eggs', 100, 1234]\n"
          ]
        }
      ],
      "source": [
        "a = ['spam', 'eggs', 100, 1234, 2*2]\n",
        "print(a[0])\n",
        "print(a[:4])"
      ]
    },
    {
      "cell_type": "code",
      "execution_count": 10,
      "metadata": {
        "id": "fV075b47Sgyh"
      },
      "outputs": [],
      "source": [
        "a[2] = a[2] + 23"
      ]
    },
    {
      "cell_type": "code",
      "execution_count": 11,
      "metadata": {
        "id": "BLKPX-mrSgyi"
      },
      "outputs": [],
      "source": [
        "a[0:2] = [1,12]"
      ]
    },
    {
      "cell_type": "code",
      "execution_count": 12,
      "metadata": {
        "colab": {
          "base_uri": "https://localhost:8080/"
        },
        "id": "w_3uzL03Sgyj",
        "outputId": "bb74e942-5d81-48d1-e319-2bccae71a556"
      },
      "outputs": [
        {
          "output_type": "stream",
          "name": "stdout",
          "text": [
            "[1, 12, 123, 1234, 4]\n"
          ]
        }
      ],
      "source": [
        "print(a)"
      ]
    },
    {
      "cell_type": "code",
      "execution_count": 13,
      "metadata": {
        "id": "JLjjx8sfSgyj"
      },
      "outputs": [],
      "source": [
        "a[0:1] = []"
      ]
    },
    {
      "cell_type": "code",
      "execution_count": 14,
      "metadata": {
        "colab": {
          "base_uri": "https://localhost:8080/"
        },
        "id": "7Fcp-hnSSgyk",
        "outputId": "ca1e6dcb-0b7e-48c0-a2ca-43a6a2e0cbf5"
      },
      "outputs": [
        {
          "output_type": "stream",
          "name": "stdout",
          "text": [
            "6\n"
          ]
        }
      ],
      "source": [
        "lis = [ 1, [5, 6], 7]\n",
        "print(lis[1][1])"
      ]
    },
    {
      "cell_type": "code",
      "execution_count": 15,
      "metadata": {
        "colab": {
          "base_uri": "https://localhost:8080/"
        },
        "id": "m0nNtLUpSgyl",
        "outputId": "c27e978d-b5f9-4caa-f6fd-2e168455f57e"
      },
      "outputs": [
        {
          "output_type": "stream",
          "name": "stdout",
          "text": [
            "range(0, 3)\n"
          ]
        }
      ],
      "source": [
        "list = range(3)\n",
        "print(list)"
      ]
    },
    {
      "cell_type": "code",
      "execution_count": 16,
      "metadata": {
        "colab": {
          "base_uri": "https://localhost:8080/"
        },
        "id": "AAkA0HQjSgyl",
        "outputId": "89b2109a-bf5a-45d4-8ae8-2d405107b2b8"
      },
      "outputs": [
        {
          "output_type": "stream",
          "name": "stdout",
          "text": [
            "Happy New Year: Joseph\n",
            "Happy New Year: Glenn\n",
            "Happy New Year: Sally\n"
          ]
        }
      ],
      "source": [
        "friends = ['Joseph', 'Glenn', 'Sally']\n",
        "for friend in friends :\n",
        "    print('Happy New Year:',  friend)"
      ]
    },
    {
      "cell_type": "code",
      "execution_count": 17,
      "metadata": {
        "colab": {
          "base_uri": "https://localhost:8080/"
        },
        "id": "Xwvk78ahSgym",
        "outputId": "2ebd31ec-5eec-45b4-c09f-129bb81255a2"
      },
      "outputs": [
        {
          "output_type": "stream",
          "name": "stdout",
          "text": [
            "Happy New Year: Joseph\n",
            "Happy New Year: Glenn\n",
            "Happy New Year: Sally\n"
          ]
        }
      ],
      "source": [
        "for i in range(len(friends)) :\n",
        "    friend = friends[i]\n",
        "    print('Happy New Year:',  friend)"
      ]
    },
    {
      "cell_type": "code",
      "execution_count": 18,
      "metadata": {
        "colab": {
          "base_uri": "https://localhost:8080/"
        },
        "id": "Nj5aIwxLSgyn",
        "outputId": "713e2578-f7f4-47ce-f8dd-30a3d682b561"
      },
      "outputs": [
        {
          "output_type": "stream",
          "name": "stdout",
          "text": [
            "['Sally', 'Joseph', 'Glenn']\n",
            "Joseph\n"
          ]
        }
      ],
      "source": [
        "friends.sort(reverse=True)\n",
        "print(friends)\n",
        "print(friends[1])"
      ]
    },
    {
      "cell_type": "code",
      "execution_count": 19,
      "metadata": {
        "colab": {
          "base_uri": "https://localhost:8080/"
        },
        "id": "DkoUSiKDSgyo",
        "outputId": "d3288a43-f633-4bba-92e8-7c4c9beabffb"
      },
      "outputs": [
        {
          "output_type": "stream",
          "name": "stdout",
          "text": [
            "['Sally', 'Joseph', 'Glenn']\n",
            "Joseph\n"
          ]
        }
      ],
      "source": [
        "friends.sort(reverse=True)\n",
        "print(friends)\n",
        "print(friends[1])"
      ]
    },
    {
      "cell_type": "code",
      "execution_count": 27,
      "metadata": {
        "colab": {
          "base_uri": "https://localhost:8080/"
        },
        "id": "WYQl49RFSgyo",
        "outputId": "4ceb5ae0-284c-494e-a229-7288cdc75ad4"
      },
      "outputs": [
        {
          "output_type": "execute_result",
          "data": {
            "text/plain": [
              "[15, 3, 41]"
            ]
          },
          "metadata": {},
          "execution_count": 27
        }
      ],
      "source": [
        "t = [9, 41, 12, 3, 74, 15]\n",
        "t[::-2]"
      ]
    },
    {
      "cell_type": "code",
      "execution_count": 26,
      "metadata": {
        "colab": {
          "base_uri": "https://localhost:8080/"
        },
        "id": "t_LpFhJJSgyo",
        "outputId": "a02b4459-04bc-4c53-cec8-ed7bbf315957"
      },
      "outputs": [
        {
          "output_type": "stream",
          "name": "stdout",
          "text": [
            "[range(0, 3), 'book', 99]\n",
            "[range(0, 3), 'book', 99, 'cookie']\n"
          ]
        }
      ],
      "source": [
        "stuff = [list]\n",
        "stuff.append('book')\n",
        "stuff.append(99)\n",
        "print(stuff)\n",
        "stuff.append('cookie')\n",
        "print(stuff)"
      ]
    },
    {
      "cell_type": "code",
      "execution_count": null,
      "metadata": {
        "id": "5RavyhfGSgyp",
        "outputId": "9214a2b0-45e1-4323-ac39-098e2de14fd2"
      },
      "outputs": [
        {
          "name": "stdout",
          "output_type": "stream",
          "text": [
            "banana\n"
          ]
        }
      ],
      "source": [
        "fruit = 'Banana'\n",
        "#fruit[0] = 'b'\n",
        "x = fruit.lower()\n",
        "print(x)"
      ]
    },
    {
      "cell_type": "code",
      "execution_count": 22,
      "metadata": {
        "colab": {
          "base_uri": "https://localhost:8080/"
        },
        "id": "WDBir9oVSgyp",
        "outputId": "6a8fe982-7fc0-493e-feff-bc5a34dcd89f"
      },
      "outputs": [
        {
          "output_type": "stream",
          "name": "stdout",
          "text": [
            "Enter a number: 1\n",
            "Enter a number: 2\n",
            "Enter a number: 3\n",
            "Enter a number: done\n",
            "Average: 2.0\n"
          ]
        }
      ],
      "source": [
        "2\n",
        "total = 0\n",
        "count = 0\n",
        "while True :\n",
        "    inp = input('Enter a number: ')\n",
        "    if inp == 'done' : \n",
        "        break\n",
        "    value = float(inp)\n",
        "    total = total + value     \n",
        "    count = count + 1\n",
        "average = total / count\n",
        "print('Average:', average)"
      ]
    },
    {
      "cell_type": "code",
      "execution_count": null,
      "metadata": {
        "id": "_jIWvWMCSgyq",
        "outputId": "9686d9f6-c990-4dd4-fe0b-68fe3ac998e6"
      },
      "outputs": [
        {
          "name": "stdout",
          "output_type": "stream",
          "text": [
            "6\n",
            "74\n",
            "3\n",
            "154\n",
            "25.666666666666668\n"
          ]
        }
      ],
      "source": [
        "nums = [3, 41, 12, 9, 74, 15]\n",
        "print(len(nums))\n",
        "print(max(nums))\n",
        "print(min(nums))\n",
        "print(sum(nums))\n",
        "print(sum(nums)/len(nums))"
      ]
    },
    {
      "cell_type": "code",
      "execution_count": 23,
      "metadata": {
        "colab": {
          "base_uri": "https://localhost:8080/"
        },
        "id": "cO4NTK85Sgyq",
        "outputId": "b8f991e8-b7b0-49ad-cc5e-1fb17100d762"
      },
      "outputs": [
        {
          "output_type": "stream",
          "name": "stdout",
          "text": [
            "['Wit', ' t', 'ree words']\n",
            "3\n",
            "Wit\n"
          ]
        }
      ],
      "source": [
        "abc = 'With three words'\n",
        "stuff = abc.split('h')\n",
        "print(stuff)\n",
        "print(len(stuff))\n",
        "print(stuff[0])"
      ]
    },
    {
      "cell_type": "code",
      "execution_count": 28,
      "metadata": {
        "colab": {
          "base_uri": "https://localhost:8080/"
        },
        "id": "aDpPJfD_Sgyr",
        "outputId": "aa609319-83d2-4e5a-af59-08e54ed7d408"
      },
      "outputs": [
        {
          "output_type": "stream",
          "name": "stdout",
          "text": [
            "['From', 'salman.amir@gmail.com', 'Sat', 'Jan', '5', '09:14:16', '2020']\n",
            "salman.amir@gmail.com\n",
            "gmail.com\n"
          ]
        }
      ],
      "source": [
        "line = 'From salman.amir@gmail.com Sat Jan  5 09:14:16 2020'\n",
        "words = line.split()\n",
        "print(words)\n",
        "email = words[1]\n",
        "print(email)\n",
        "pieces = email.split('@')\n",
        "print(pieces[1])"
      ]
    },
    {
      "cell_type": "code",
      "execution_count": 29,
      "metadata": {
        "colab": {
          "base_uri": "https://localhost:8080/"
        },
        "id": "tMZV_aNUSgyr",
        "outputId": "5cd67dd4-c64f-480c-c465-33d445c412f5"
      },
      "outputs": [
        {
          "output_type": "stream",
          "name": "stdout",
          "text": [
            "2\n",
            "dict_keys(['foo', 'bar'])\n"
          ]
        }
      ],
      "source": [
        "d = { \"foo\" : 1, \"bar\" : 2 }\n",
        "print(d[\"bar\"])   # 2\n",
        "some_dict = {}\n",
        "some_dict[\"foo\"] = \"yow!\"\n",
        "some_dict[\"bar\"] = \"Dog!\"\n",
        "print(some_dict.keys()) # [\"foo\"]"
      ]
    },
    {
      "cell_type": "code",
      "execution_count": 30,
      "metadata": {
        "colab": {
          "base_uri": "https://localhost:8080/"
        },
        "id": "alAHDM2fSgyr",
        "outputId": "9852966f-68e7-4b20-d5df-8d7568af0236"
      },
      "outputs": [
        {
          "output_type": "execute_result",
          "data": {
            "text/plain": [
              "range(0, 3)"
            ]
          },
          "metadata": {},
          "execution_count": 30
        }
      ],
      "source": [
        "list"
      ]
    },
    {
      "cell_type": "code",
      "execution_count": 31,
      "metadata": {
        "colab": {
          "base_uri": "https://localhost:8080/"
        },
        "id": "tp8zxi3sSgys",
        "outputId": "1d052a49-55ea-4c56-e11d-4bdc7aad89b6"
      },
      "outputs": [
        {
          "output_type": "stream",
          "name": "stdout",
          "text": [
            "Happy New Year: Joseph\n",
            "Happy New Year: Glenn\n",
            "Happy New Year: Sally\n"
          ]
        }
      ],
      "source": [
        "friends = ['Joseph', 'Glenn', 'Sally']\n",
        "for friend in friends :\n",
        "    print('Happy New Year:',  friend)\n"
      ]
    },
    {
      "cell_type": "code",
      "execution_count": 32,
      "metadata": {
        "colab": {
          "base_uri": "https://localhost:8080/"
        },
        "id": "nmkWi_v8Sgys",
        "outputId": "2fff0b69-fe65-432c-fea4-a25fa47038e3"
      },
      "outputs": [
        {
          "output_type": "stream",
          "name": "stdout",
          "text": [
            "3\n",
            "0\n",
            "Happy New Year: Joseph\n",
            "3\n",
            "1\n",
            "Happy New Year: Glenn\n",
            "3\n",
            "2\n",
            "Happy New Year: Sally\n"
          ]
        }
      ],
      "source": [
        "for i in range(len(friends)) :\n",
        "    print(len(friends))\n",
        "    print(i)\n",
        "    friend = friends[i]\n",
        "    print('Happy New Year:',  friend)"
      ]
    },
    {
      "cell_type": "code",
      "execution_count": null,
      "metadata": {
        "id": "bF_dOpbpSgys",
        "outputId": "fbbd1739-8d6d-4c84-9556-ef15469f61c5"
      },
      "outputs": [
        {
          "name": "stdout",
          "output_type": "stream",
          "text": [
            "Enter a number: 10\n",
            "Enter a number: 20\n",
            "Enter a number: 40\n",
            "Enter a number: 60\n",
            "Enter a number: done\n"
          ]
        }
      ],
      "source": [
        "total = 0\n",
        "count = 0\n",
        "while True :\n",
        "    inp = input('Enter a number: ')\n",
        "    if inp == 'done' : \n",
        "        break\n",
        "    value = float(inp)\n",
        "    total = total + value     \n",
        "    count = count + 1"
      ]
    },
    {
      "cell_type": "code",
      "execution_count": null,
      "metadata": {
        "id": "j7irldB7Sgys",
        "outputId": "3be005a5-99b0-4dc3-8580-74836cbcf975"
      },
      "outputs": [
        {
          "name": "stdout",
          "output_type": "stream",
          "text": [
            "4\n"
          ]
        }
      ],
      "source": [
        "print(count)"
      ]
    },
    {
      "cell_type": "code",
      "execution_count": null,
      "metadata": {
        "id": "xFBhxH_8Sgyt",
        "outputId": "018611cf-386a-4125-b0e7-7c364f627dd5"
      },
      "outputs": [
        {
          "name": "stdout",
          "output_type": "stream",
          "text": [
            "130.0\n",
            "Average: 32.5\n"
          ]
        }
      ],
      "source": [
        "print(total)\n",
        "average = total / count\n",
        "print('Average:', average)"
      ]
    },
    {
      "cell_type": "code",
      "execution_count": null,
      "metadata": {
        "id": "5JX3n0CjSgyt",
        "outputId": "51bd78a8-a446-44a6-bef5-54f260abecca"
      },
      "outputs": [
        {
          "data": {
            "text/plain": [
              "['From', 'salman.amir@gmail.com', 'Sat', 'Jan', '5', '09:14:16', '2020']"
            ]
          },
          "execution_count": 1,
          "metadata": {},
          "output_type": "execute_result"
        }
      ],
      "source": [
        "line = 'From salman.amir@gmail.com Sat Jan  5 09:14:16 2020'\n",
        "words = line.split()\n",
        "words"
      ]
    },
    {
      "cell_type": "code",
      "execution_count": null,
      "metadata": {
        "id": "12L_WOPzSgyt",
        "outputId": "343da286-ed3a-4542-cdd3-fea5cc6fe639"
      },
      "outputs": [
        {
          "name": "stdout",
          "output_type": "stream",
          "text": [
            "salman.amir@gmail.com\n"
          ]
        }
      ],
      "source": [
        "email = words[1]\n",
        "print(email)"
      ]
    },
    {
      "cell_type": "code",
      "execution_count": null,
      "metadata": {
        "id": "aLM-VMPPSgyt",
        "outputId": "09110a30-16d9-4db7-c26f-91e2f7b1524d"
      },
      "outputs": [
        {
          "name": "stdout",
          "output_type": "stream",
          "text": [
            "gmail.com\n"
          ]
        }
      ],
      "source": [
        "pieces = email.split('@')\n",
        "print(pieces[1])"
      ]
    },
    {
      "cell_type": "code",
      "execution_count": null,
      "metadata": {
        "id": "9_NQ1Af3Sgyu",
        "outputId": "28b98412-fb54-427d-d3c7-dfefa8add220"
      },
      "outputs": [
        {
          "name": "stdout",
          "output_type": "stream",
          "text": [
            "(123, 54, 92)\n",
            "()\n",
            "('Ala',)\n",
            "(2, 3, False, 'Arg', None)\n"
          ]
        }
      ],
      "source": [
        "a = (123, 54, 92) # tuple of 3 integers\n",
        "b = () # empty tuple\n",
        "c = (\"Ala\",) # tuple of a single string (note the trailing \",\")\n",
        "d = (2, 3, False, \"Arg\", None) # a tuple of mixed types\n",
        "\n",
        "print(a)\n",
        "print(b)\n",
        "print(c)\n",
        "print(d)"
      ]
    },
    {
      "cell_type": "code",
      "execution_count": null,
      "metadata": {
        "id": "gFW66nnOSgyu",
        "outputId": "d08c9cf6-6cd3-4d75-ae39-3231d204e511"
      },
      "outputs": [
        {
          "name": "stdout",
          "output_type": "stream",
          "text": [
            "(1.2, -0.3, 0.9)\n"
          ]
        }
      ],
      "source": [
        "x = 1.2\n",
        "y = -0.3\n",
        "z = 0.9\n",
        "t = (x, y, z)\n",
        "\n",
        "print(t)"
      ]
    },
    {
      "cell_type": "code",
      "execution_count": null,
      "metadata": {
        "id": "VcEt_MLmSgyu",
        "outputId": "b3908be3-bb3f-4ee7-efa8-ecb1652090f9"
      },
      "outputs": [
        {
          "name": "stdout",
          "output_type": "stream",
          "text": [
            "t is (2, 3, 'Hi', [1, 2, 3])\n",
            "x is 2\n",
            "y is 3\n",
            "z is Hi\n",
            "a is [1, 2, 3]\n"
          ]
        }
      ],
      "source": [
        "l = 2, 3, \"Hi\", [1,2,3] # tuple packing\n",
        "print('t is', l)\n",
        "x, y, z, a = l # tuple unpacking\n",
        "print('x is', x)\n",
        "print('y is', y)\n",
        "print('z is', z)\n",
        "print('a is', a)"
      ]
    },
    {
      "cell_type": "code",
      "execution_count": null,
      "metadata": {
        "id": "RBNxnhkVSgyu",
        "outputId": "26fd5e1c-63ab-44f2-8bc0-2786ad4fc4c0"
      },
      "outputs": [
        {
          "name": "stdout",
          "output_type": "stream",
          "text": [
            "<class 'tuple'>\n"
          ]
        }
      ],
      "source": [
        "print(type(l))"
      ]
    },
    {
      "cell_type": "code",
      "execution_count": null,
      "metadata": {
        "id": "mIgScwAOSgyu",
        "outputId": "b340fb02-627e-4582-c54b-bfb8f152cd99"
      },
      "outputs": [
        {
          "data": {
            "text/plain": [
              "[1, 2, 3]"
            ]
          },
          "execution_count": 11,
          "metadata": {},
          "output_type": "execute_result"
        }
      ],
      "source": [
        "l[3]"
      ]
    },
    {
      "cell_type": "code",
      "execution_count": null,
      "metadata": {
        "id": "DHGJ5BNfSgyv",
        "outputId": "77a68fc0-e02c-448a-94a6-f335f6cfb2af"
      },
      "outputs": [
        {
          "name": "stdout",
          "output_type": "stream",
          "text": [
            "[1, 3, 9, 'Py', 217.213]\n",
            "['Python']\n",
            "[]\n"
          ]
        }
      ],
      "source": [
        "a = [1, 3, 9, 'Py', 217.213]\n",
        "b = [\"Python\"]\n",
        "c = []\n",
        "\n",
        "print(a)\n",
        "print(b)\n",
        "print(c)"
      ]
    },
    {
      "cell_type": "code",
      "execution_count": null,
      "metadata": {
        "id": "xLaBsxYqSgyv",
        "outputId": "73d45982-4033-48bf-e0eb-9c584656348a"
      },
      "outputs": [
        {
          "name": "stdout",
          "output_type": "stream",
          "text": [
            "12\n",
            "hi\n",
            "i23\n",
            "---\n",
            "[['12', 'hi'], ['i23', '---']]\n"
          ]
        }
      ],
      "source": [
        "matrix = [[input(),input()], [input(),input()]]\n",
        "print(matrix)"
      ]
    },
    {
      "cell_type": "code",
      "execution_count": null,
      "metadata": {
        "id": "4rtM3gtsSgyv",
        "outputId": "665e9bf3-9468-4683-914c-eade93d57ceb"
      },
      "outputs": [
        {
          "name": "stdout",
          "output_type": "stream",
          "text": [
            "(1, 4, 9, 16)\n",
            "['A', 'B', 'C', 'd']\n",
            "[1, 4, 9, 16]\n",
            "('A', 'B', 'C', 'd')\n"
          ]
        }
      ],
      "source": [
        "a = (1, 4, 9, 16)     # A tuple of numbers\n",
        "b = ['A','B','C','d'] # A list of characters\n",
        "print(a)\n",
        "print(b)\n",
        "l = list(a)   # Make a list based on a tuple \n",
        "print(l)\n",
        "t = tuple(b)  # Make a tuple based on a list\n",
        "print(t)"
      ]
    },
    {
      "cell_type": "code",
      "execution_count": null,
      "metadata": {
        "id": "HKnfzJy6Sgyv",
        "outputId": "d1d52c1e-5be6-4a84-c348-be1b5964def7"
      },
      "outputs": [
        {
          "name": "stdout",
          "output_type": "stream",
          "text": [
            "1361258827928\n",
            "1361258854152\n",
            "1361258254088\n",
            "1361258755080\n"
          ]
        }
      ],
      "source": [
        "print(id(a))\n",
        "print(id(l))\n",
        "print(id(b))\n",
        "print(id(t))"
      ]
    },
    {
      "cell_type": "code",
      "execution_count": null,
      "metadata": {
        "id": "LkxQcV2lSgyw",
        "outputId": "e72f1e34-c872-4548-a7b4-cbeefaae6ba8"
      },
      "outputs": [
        {
          "name": "stdout",
          "output_type": "stream",
          "text": [
            "t is (123, 54, 92, 87, 33)\n",
            "t[0] is 123\n",
            "t[2] is 92\n",
            "x is [123, 54, 92, 87, 33]\n",
            "x[-1] is 33\n"
          ]
        }
      ],
      "source": [
        "t = (123, 54, 92, 87, 33)\n",
        "x = [123, 54, 92, 87, 33]\n",
        "\n",
        "print('t is', t)\n",
        "print('t[0] is', t[0])\n",
        "print('t[2] is', t[2])\n",
        "\n",
        "print('x is', x)\n",
        "print('x[-1] is', x[-1])"
      ]
    },
    {
      "cell_type": "code",
      "execution_count": null,
      "metadata": {
        "id": "4owKKNlxSgyw",
        "outputId": "5a3252b5-a7fc-43a2-d3c3-eae4bca41b7e"
      },
      "outputs": [
        {
          "name": "stdout",
          "output_type": "stream",
          "text": [
            "t[1:3] is (54, 92)\n",
            "x[2:] is [92, 87, 33]\n",
            "x[:-1] is [123, 54, 92, 87]\n"
          ]
        }
      ],
      "source": [
        "t = (123, 54, 92, 87, 33)\n",
        "x = [123, 54, 92, 87, 33]\n",
        "print('t[1:3] is', t[1:3])\n",
        "print('x[2:] is', x[2:])\n",
        "print('x[:-1] is', x[:-1])"
      ]
    },
    {
      "cell_type": "code",
      "execution_count": null,
      "metadata": {
        "id": "McOSQDHxSgyw",
        "outputId": "3b358420-39c5-4625-b68c-4d484a971b03"
      },
      "outputs": [
        {
          "name": "stdout",
          "output_type": "stream",
          "text": [
            "123 in [123, 54, 92, 87, 33] True\n",
            "234 in (123, 54, 92, 87, 33) False\n",
            "999 not in [123, 54, 92, 87, 33] True\n"
          ]
        }
      ],
      "source": [
        "t = (123, 54, 92, 87, 33)\n",
        "x = [123, 54, 92, 87, 33]\n",
        "print('123 in', x, 123 in x)\n",
        "print('234 in', t, 234 in t)\n",
        "print('999 not in', x, 999 not in x)"
      ]
    },
    {
      "cell_type": "code",
      "execution_count": null,
      "metadata": {
        "id": "ofocbTBCSgyw",
        "outputId": "3aef51f3-29ec-4c6c-bdca-6de7f4b1e64a"
      },
      "outputs": [
        {
          "data": {
            "text/plain": [
              "[3, 4, 5]"
            ]
          },
          "execution_count": 19,
          "metadata": {},
          "output_type": "execute_result"
        }
      ],
      "source": [
        "a = [1, 2, 3, 4, 5]\n",
        "\n",
        "a[2:]"
      ]
    },
    {
      "cell_type": "code",
      "execution_count": null,
      "metadata": {
        "id": "eWGbtx_kSgyx",
        "outputId": "b1df545d-f22d-4d91-e5c9-7be572bf757c"
      },
      "outputs": [
        {
          "name": "stdout",
          "output_type": "stream",
          "text": [
            "length of t is 5\n",
            "number of 33s in x is 1\n"
          ]
        }
      ],
      "source": [
        "t = (123, 54, 92, 87, 33)\n",
        "x = [123, 54, 92, 87, 33]\n",
        "print(\"length of t is\", len(t))\n",
        "print(\"number of 33s in x is\", x.count(33))"
      ]
    },
    {
      "cell_type": "code",
      "execution_count": 34,
      "metadata": {
        "colab": {
          "base_uri": "https://localhost:8080/",
          "height": 235
        },
        "id": "Zo7zoAYdSgyx",
        "outputId": "1bb9da1f-8844-45bb-9e9c-2b4d98ff58ba"
      },
      "outputs": [
        {
          "output_type": "stream",
          "name": "stdout",
          "text": [
            "(123, 54, 92, 87, 33)\n"
          ]
        },
        {
          "output_type": "error",
          "ename": "TypeError",
          "evalue": "ignored",
          "traceback": [
            "\u001b[0;31m---------------------------------------------------------------------------\u001b[0m",
            "\u001b[0;31mTypeError\u001b[0m                                 Traceback (most recent call last)",
            "\u001b[0;32m<ipython-input-34-71b45a0906c1>\u001b[0m in \u001b[0;36m<module>\u001b[0;34m()\u001b[0m\n\u001b[1;32m      2\u001b[0m \u001b[0mx\u001b[0m \u001b[0;34m=\u001b[0m \u001b[0;34m(\u001b[0m\u001b[0;36m123\u001b[0m\u001b[0;34m,\u001b[0m \u001b[0;36m54\u001b[0m\u001b[0;34m,\u001b[0m \u001b[0;36m92\u001b[0m\u001b[0;34m,\u001b[0m \u001b[0;36m87\u001b[0m\u001b[0;34m,\u001b[0m \u001b[0;36m33\u001b[0m\u001b[0;34m)\u001b[0m\u001b[0;34m\u001b[0m\u001b[0;34m\u001b[0m\u001b[0m\n\u001b[1;32m      3\u001b[0m \u001b[0mprint\u001b[0m\u001b[0;34m(\u001b[0m\u001b[0mx\u001b[0m\u001b[0;34m)\u001b[0m\u001b[0;34m\u001b[0m\u001b[0;34m\u001b[0m\u001b[0m\n\u001b[0;32m----> 4\u001b[0;31m \u001b[0mx\u001b[0m\u001b[0;34m[\u001b[0m\u001b[0;36m2\u001b[0m\u001b[0;34m]\u001b[0m \u001b[0;34m=\u001b[0m \u001b[0;36m33\u001b[0m\u001b[0;34m\u001b[0m\u001b[0;34m\u001b[0m\u001b[0m\n\u001b[0m\u001b[1;32m      5\u001b[0m \u001b[0mprint\u001b[0m\u001b[0;34m(\u001b[0m\u001b[0mx\u001b[0m\u001b[0;34m)\u001b[0m\u001b[0;34m\u001b[0m\u001b[0;34m\u001b[0m\u001b[0m\n",
            "\u001b[0;31mTypeError\u001b[0m: 'tuple' object does not support item assignment"
          ]
        }
      ],
      "source": [
        "#tuple is immutable\n",
        "x = (123, 54, 92, 87, 33)\n",
        "print(x)\n",
        "x[2] = 33\n",
        "print(x)"
      ]
    },
    {
      "cell_type": "code",
      "execution_count": 35,
      "metadata": {
        "colab": {
          "base_uri": "https://localhost:8080/"
        },
        "id": "1PBId8UMSgyx",
        "outputId": "163045e1-fc7a-42c1-b011-7fb036410c8e"
      },
      "outputs": [
        {
          "output_type": "stream",
          "name": "stdout",
          "text": [
            "[123, 54, 92, 87, 33]\n"
          ]
        }
      ],
      "source": [
        "#list functions\n",
        "t = [123, 54, 92, 87, 33]\n",
        "print(t)\n",
        "t[1] = 4"
      ]
    },
    {
      "cell_type": "code",
      "execution_count": 36,
      "metadata": {
        "colab": {
          "base_uri": "https://localhost:8080/"
        },
        "id": "HV7GATp7Sgyx",
        "outputId": "e82abe8d-770d-4e4c-d6ae-307bd409eaa2"
      },
      "outputs": [
        {
          "output_type": "stream",
          "name": "stdout",
          "text": [
            "[123, 54, 92, 87, 33, 101]\n"
          ]
        }
      ],
      "source": [
        "x = [123, 54, 92, 87, 33]\n",
        "x.append(101)\n",
        "print(x)"
      ]
    },
    {
      "cell_type": "code",
      "execution_count": 37,
      "metadata": {
        "colab": {
          "base_uri": "https://localhost:8080/"
        },
        "id": "FFWHq6twSgyx",
        "outputId": "46826ee7-ef0d-4ed7-d2f6-5ac5a6aac103"
      },
      "outputs": [
        {
          "output_type": "stream",
          "name": "stdout",
          "text": [
            "[123, 54, 92, 1111, 87, 33]\n"
          ]
        }
      ],
      "source": [
        "x = [123, 54, 92, 87, 33]\n",
        "x.insert(3, 1111)\n",
        "print(x)"
      ]
    },
    {
      "cell_type": "code",
      "execution_count": 38,
      "metadata": {
        "colab": {
          "base_uri": "https://localhost:8080/"
        },
        "id": "FnIyilxRSgyy",
        "outputId": "b5cba27c-3f04-4af6-eef3-c2597fbb754b"
      },
      "outputs": [
        {
          "output_type": "stream",
          "name": "stdout",
          "text": [
            "[54, 92, 87, 33]\n"
          ]
        }
      ],
      "source": [
        "x = [123, 54, 92, 87, 33]\n",
        "x.remove(123)\n",
        "print(x)"
      ]
    },
    {
      "cell_type": "code",
      "execution_count": 39,
      "metadata": {
        "colab": {
          "base_uri": "https://localhost:8080/"
        },
        "id": "vEWfKzToSgyy",
        "outputId": "028ce055-343f-4f95-a515-7142f0fdd39a"
      },
      "outputs": [
        {
          "output_type": "stream",
          "name": "stdout",
          "text": [
            "[123, 54, 92, 87, 33]\n",
            "[54, 92, 87, 33]\n"
          ]
        }
      ],
      "source": [
        "x = [123, 54, 92, 87, 33]\n",
        "print(x)\n",
        "del x[0]\n",
        "print(x)"
      ]
    },
    {
      "cell_type": "code",
      "execution_count": 40,
      "metadata": {
        "colab": {
          "base_uri": "https://localhost:8080/"
        },
        "id": "N09EqnNZSgyy",
        "outputId": "07986427-472d-4475-a8f8-53e22b616ee3"
      },
      "outputs": [
        {
          "output_type": "stream",
          "name": "stdout",
          "text": [
            "[1, 2, 3, 4, 5, 6]\n",
            "[1, 2, 3, 4, 5, 6, [4, 5, 6]]\n",
            "[1, 2, 3, 4, 5, 6, [4, 5, 6], 'Hi']\n"
          ]
        }
      ],
      "source": [
        "a = [1,2,3]\n",
        "b = [4,5,6]\n",
        "c = \"Hi\"\n",
        "a.extend(b)\n",
        "print(a)\n",
        "a.append(b)\n",
        "print(a)\n",
        "a.append(c)\n",
        "print(a)"
      ]
    },
    {
      "cell_type": "code",
      "execution_count": 41,
      "metadata": {
        "colab": {
          "base_uri": "https://localhost:8080/"
        },
        "id": "vQRXQzc0Sgyy",
        "outputId": "8b17539b-2e07-432d-8616-4cb61009efb8"
      },
      "outputs": [
        {
          "output_type": "stream",
          "name": "stdout",
          "text": [
            "[1, 2, 3, 4, 5, 6]\n"
          ]
        }
      ],
      "source": [
        "a = [1, 2, 3]\n",
        "b = [4, 5, 6]\n",
        "a = a + b\n",
        "print(a)"
      ]
    },
    {
      "cell_type": "code",
      "execution_count": 42,
      "metadata": {
        "colab": {
          "base_uri": "https://localhost:8080/"
        },
        "id": "kaNca9OFSgyy",
        "outputId": "4579e019-1743-4526-d174-0da46f0fce65"
      },
      "outputs": [
        {
          "output_type": "stream",
          "name": "stdout",
          "text": [
            "[1, ([9, 9, 9, 9], [9, 9, 9, 9], [9, 9, 9, 9], [9, 9, 9, 9]), 3, 4, 5, 6]\n"
          ]
        }
      ],
      "source": [
        "a = [1, 2, 3, 4, 5, 6]\n",
        "a[1] = [9, 9, 9, 9],[9, 9, 9, 9],[9, 9, 9, 9],[9, 9, 9, 9]\n",
        "print(a)"
      ]
    },
    {
      "cell_type": "code",
      "execution_count": 43,
      "metadata": {
        "id": "IbsyWuPvSgyz"
      },
      "outputs": [],
      "source": [
        "x,y,z = 10,20,30"
      ]
    },
    {
      "cell_type": "code",
      "execution_count": 44,
      "metadata": {
        "colab": {
          "base_uri": "https://localhost:8080/"
        },
        "id": "LEb0TVVfSgyz",
        "outputId": "74c27502-2dc9-47a8-db1b-60f1f5f5c6f8"
      },
      "outputs": [
        {
          "output_type": "stream",
          "name": "stdout",
          "text": [
            "[2, 4, 6, 5, 3, 1]\n",
            "[1, 2, 3, 4, 5, 6]\n",
            "None\n"
          ]
        }
      ],
      "source": [
        "a = [1, 3, 5,6, 4, 2]\n",
        "a.reverse()\n",
        "print(a)\n",
        "b = []\n",
        "b = a.sort()\n",
        "print(a)\n",
        "print(b)"
      ]
    },
    {
      "cell_type": "code",
      "execution_count": 45,
      "metadata": {
        "colab": {
          "base_uri": "https://localhost:8080/"
        },
        "id": "2Xz494t2Sgyz",
        "outputId": "1e36eea8-1cc9-4a6b-83c0-a7044be8526c"
      },
      "outputs": [
        {
          "output_type": "stream",
          "name": "stdout",
          "text": [
            "[2, 5, 7, 1]\n",
            "[1, 2, 5, 7]\n"
          ]
        }
      ],
      "source": [
        "a = [2, 5, 7, 1]\n",
        "b = sorted(a)\n",
        "print(a)\n",
        "print(b)"
      ]
    },
    {
      "cell_type": "code",
      "execution_count": 46,
      "metadata": {
        "colab": {
          "base_uri": "https://localhost:8080/"
        },
        "id": "N11Ok2anSgyz",
        "outputId": "0eaec4b9-879c-411d-b838-ec9375cf2a4a"
      },
      "outputs": [
        {
          "output_type": "stream",
          "name": "stdout",
          "text": [
            "A\n",
            "G\n",
            "ABCDEF\n",
            "True\n",
            "False\n",
            "8\n"
          ]
        }
      ],
      "source": [
        "text = \"ABCDEFGH\"\n",
        "print(text[0])\n",
        "print(text[-2])\n",
        "print(text[0:6])\n",
        "print(\"EFG\" in text)\n",
        "print(\"ABBC\" in text)\n",
        "print(len(text))"
      ]
    },
    {
      "cell_type": "code",
      "execution_count": 47,
      "metadata": {
        "colab": {
          "base_uri": "https://localhost:8080/",
          "height": 183
        },
        "id": "0LUKI0J_Sgyz",
        "outputId": "5dbeaa84-a07a-4266-c892-42b9127220e6"
      },
      "outputs": [
        {
          "output_type": "error",
          "ename": "TypeError",
          "evalue": "ignored",
          "traceback": [
            "\u001b[0;31m---------------------------------------------------------------------------\u001b[0m",
            "\u001b[0;31mTypeError\u001b[0m                                 Traceback (most recent call last)",
            "\u001b[0;32m<ipython-input-47-578c70ad8e93>\u001b[0m in \u001b[0;36m<module>\u001b[0;34m()\u001b[0m\n\u001b[1;32m      1\u001b[0m \u001b[0mtext\u001b[0m \u001b[0;34m=\u001b[0m \u001b[0;34m\"ABCDEFGH\"\u001b[0m\u001b[0;34m\u001b[0m\u001b[0;34m\u001b[0m\u001b[0m\n\u001b[0;32m----> 2\u001b[0;31m \u001b[0mtext\u001b[0m\u001b[0;34m[\u001b[0m\u001b[0;36m0\u001b[0m\u001b[0;34m:\u001b[0m\u001b[0;36m2\u001b[0m\u001b[0;34m]\u001b[0m \u001b[0;34m=\u001b[0m \u001b[0;34m\"CCC\"\u001b[0m\u001b[0;34m\u001b[0m\u001b[0;34m\u001b[0m\u001b[0m\n\u001b[0m",
            "\u001b[0;31mTypeError\u001b[0m: 'str' object does not support item assignment"
          ]
        }
      ],
      "source": [
        "#string is immutable\n",
        "text = \"ABCDEFGH\"\n",
        "text[0:2] = \"CCC\" "
      ]
    },
    {
      "cell_type": "code",
      "execution_count": 50,
      "metadata": {
        "colab": {
          "base_uri": "https://localhost:8080/"
        },
        "id": "85pjEN4xSgy0",
        "outputId": "8024ae08-02fb-4d37-c174-2e083f743f09"
      },
      "outputs": [
        {
          "output_type": "stream",
          "name": "stdout",
          "text": [
            "CDE is at position: 2\n",
            "CDE is at position: 8\n",
            "The last C is at position: 8\n"
          ]
        }
      ],
      "source": [
        "#string functions\n",
        "string = \"ABCDEDCBCDEA\"\n",
        "index = string.find(\"CDE\")\n",
        "print(\"CDE is at position:\", index)\n",
        "index = string.rfind(\"CDE\")\n",
        "print(\"CDE is at position:\", index)\n",
        "index = string.rfind('C')\n",
        "print(\"The last C is at position:\", index)"
      ]
    },
    {
      "cell_type": "code",
      "execution_count": 49,
      "metadata": {
        "colab": {
          "base_uri": "https://localhost:8080/"
        },
        "id": "raC_xfuzSgy0",
        "outputId": "b483ed0f-d975-48c1-ff2b-3c86baba1fbd"
      },
      "outputs": [
        {
          "output_type": "stream",
          "name": "stdout",
          "text": [
            "27 .      My name is Python      .\n",
            "22 .      My name is Python .\n",
            "22 . My name is Python      .\n",
            "17 . My name is Python .\n"
          ]
        }
      ],
      "source": [
        "s = \"     My name is Python     \"\n",
        "print(len(s), \".\", s, \".\")\n",
        "print(len(s.rstrip()), \".\", s.rstrip(), \".\")\n",
        "print(len(s.lstrip()), \".\", s.lstrip(), \".\")\n",
        "print(len(s.strip()), \".\", s.strip(),\".\")"
      ]
    },
    {
      "cell_type": "code",
      "execution_count": 51,
      "metadata": {
        "colab": {
          "base_uri": "https://localhost:8080/",
          "height": 235
        },
        "id": "fAl-GsDxSgy0",
        "outputId": "31d531a4-1651-4d0f-c915-94684ec91df3"
      },
      "outputs": [
        {
          "output_type": "stream",
          "name": "stdout",
          "text": [
            "['My', 'name', 'is', 'Python']\n"
          ]
        },
        {
          "output_type": "error",
          "ename": "TypeError",
          "evalue": "ignored",
          "traceback": [
            "\u001b[0;31m---------------------------------------------------------------------------\u001b[0m",
            "\u001b[0;31mTypeError\u001b[0m                                 Traceback (most recent call last)",
            "\u001b[0;32m<ipython-input-51-a274fa6b79f6>\u001b[0m in \u001b[0;36m<module>\u001b[0;34m()\u001b[0m\n\u001b[1;32m      3\u001b[0m \u001b[0mprint\u001b[0m\u001b[0;34m(\u001b[0m\u001b[0mwords\u001b[0m\u001b[0;34m)\u001b[0m\u001b[0;34m\u001b[0m\u001b[0;34m\u001b[0m\u001b[0m\n\u001b[1;32m      4\u001b[0m \u001b[0;34m\u001b[0m\u001b[0m\n\u001b[0;32m----> 5\u001b[0;31m \u001b[0mletters\u001b[0m \u001b[0;34m=\u001b[0m \u001b[0mlist\u001b[0m\u001b[0;34m(\u001b[0m\u001b[0mstring\u001b[0m\u001b[0;34m)\u001b[0m \u001b[0;31m# a tuple of character converted into a list\u001b[0m\u001b[0;34m\u001b[0m\u001b[0;34m\u001b[0m\u001b[0m\n\u001b[0m\u001b[1;32m      6\u001b[0m \u001b[0mprint\u001b[0m\u001b[0;34m(\u001b[0m\u001b[0mletters\u001b[0m\u001b[0;34m)\u001b[0m\u001b[0;34m\u001b[0m\u001b[0;34m\u001b[0m\u001b[0m\n",
            "\u001b[0;31mTypeError\u001b[0m: 'range' object is not callable"
          ]
        }
      ],
      "source": [
        "string = \"My name is Python\"\n",
        "words = string.split(\" \")\n",
        "print(words)\n",
        "\n",
        "letters = list(string) # a tuple of character converted into a list\n",
        "print(letters)"
      ]
    },
    {
      "cell_type": "code",
      "execution_count": 52,
      "metadata": {
        "colab": {
          "base_uri": "https://localhost:8080/"
        },
        "id": "ptf119pfSgy0",
        "outputId": "b1e70cb6-7da1-45ca-beae-a4e4fad7236c"
      },
      "outputs": [
        {
          "output_type": "stream",
          "name": "stdout",
          "text": [
            "['My', 'name', 'is', 'Python']\n",
            "My|name|is|Python\n"
          ]
        }
      ],
      "source": [
        "string = \"My name is Python\"\n",
        "words = string.split(\" \")\n",
        "print(words)\n",
        "print(\"|\".join(words))"
      ]
    },
    {
      "cell_type": "code",
      "execution_count": 53,
      "metadata": {
        "colab": {
          "base_uri": "https://localhost:8080/"
        },
        "id": "fJ6pdRLkSgy0",
        "outputId": "e3436073-f1f9-4c66-d449-fca4c5928bc2"
      },
      "outputs": [
        {
          "output_type": "stream",
          "name": "stdout",
          "text": [
            "Python3.6\n"
          ]
        }
      ],
      "source": [
        "language = \"Python\"\n",
        "version = 3.6\n",
        "print(language + str(version))"
      ]
    },
    {
      "cell_type": "code",
      "execution_count": 54,
      "metadata": {
        "colab": {
          "base_uri": "https://localhost:8080/"
        },
        "id": "YJEadIYOSgy1",
        "outputId": "74c986af-b86d-490a-c1e9-15fad097839e"
      },
      "outputs": [
        {
          "output_type": "stream",
          "name": "stdout",
          "text": [
            "{1, 2, 3}\n",
            "set()\n"
          ]
        }
      ],
      "source": [
        "l = [1, 2, 3, 2, 3] # list of 5 values\n",
        "s = set(l) # set of 3 unique values\n",
        "print(s)\n",
        "e = set() # empty set\n",
        "print(e)"
      ]
    },
    {
      "cell_type": "code",
      "execution_count": 55,
      "metadata": {
        "colab": {
          "base_uri": "https://localhost:8080/"
        },
        "id": "Xy7C_g9PSgy1",
        "outputId": "5326e132-93d9-47f9-faf4-183bbf5a9d00"
      },
      "outputs": [
        {
          "output_type": "stream",
          "name": "stdout",
          "text": [
            "{1, 2, 3}\n",
            "number in set: 3\n",
            "{1, 2, 3, 4}\n",
            "{1, 2, 3, 4}\n"
          ]
        }
      ],
      "source": [
        "s = set([1, 2, 3, 2, 3])\n",
        "print(s)\n",
        "print(\"number in set:\", len(s))\n",
        "s.add(4)\n",
        "print(s)\n",
        "s.add(3)\n",
        "print(s)"
      ]
    },
    {
      "cell_type": "code",
      "execution_count": 56,
      "metadata": {
        "colab": {
          "base_uri": "https://localhost:8080/"
        },
        "id": "GzWAGNPwSgy1",
        "outputId": "e7434e41-3d6a-41b5-e3d7-f99d83b28c30"
      },
      "outputs": [
        {
          "output_type": "stream",
          "name": "stdout",
          "text": [
            "{1, 2, 3}\n",
            "{1, 2}\n"
          ]
        }
      ],
      "source": [
        "s = set([1, 2, 3, 2, 3])\n",
        "print(s)\n",
        "s.remove(3)\n",
        "print(s)"
      ]
    },
    {
      "cell_type": "code",
      "execution_count": 57,
      "metadata": {
        "colab": {
          "base_uri": "https://localhost:8080/"
        },
        "id": "4FFxK4Q5Sgy1",
        "outputId": "9a75bdfb-6a68-4ca2-eefa-b5b4301b03a9"
      },
      "outputs": [
        {
          "output_type": "stream",
          "name": "stdout",
          "text": [
            "Union: {2, 4, 5, 6, 7, 8, 10}\n",
            "Intersection: {4, 6}\n"
          ]
        }
      ],
      "source": [
        "s1 = set([2, 4, 6, 8, 10])\n",
        "s2 = set([4, 5, 6, 7])\n",
        "\n",
        "print(\"Union:\", s1 | s2)\n",
        "print(\"Intersection:\", s1 & s2)"
      ]
    },
    {
      "cell_type": "code",
      "execution_count": 58,
      "metadata": {
        "colab": {
          "base_uri": "https://localhost:8080/",
          "height": 53
        },
        "id": "JbQdtPCmSgy1",
        "outputId": "1bba0812-1fbf-4e2f-900a-6a191a1d75ec"
      },
      "outputs": [
        {
          "output_type": "stream",
          "name": "stdout",
          "text": [
            "{'A': 'Cricket', 'B': 'Football', 'C': 'Hockey', 'D': 'Badminton'}\n"
          ]
        },
        {
          "output_type": "execute_result",
          "data": {
            "application/vnd.google.colaboratory.intrinsic+json": {
              "type": "string"
            },
            "text/plain": [
              "'Hockey'"
            ]
          },
          "metadata": {},
          "execution_count": 58
        }
      ],
      "source": [
        "sports = {\"A\": \"Cricket\", \"B\": \"Football\", \"C\": \"Hockey\", \"D\": \"Badminton\"}\n",
        "print(sports)\n",
        "\n",
        "sports['C']"
      ]
    },
    {
      "cell_type": "code",
      "execution_count": 60,
      "metadata": {
        "colab": {
          "base_uri": "https://localhost:8080/"
        },
        "id": "BP-nWqqASgy1",
        "outputId": "8b7e71a1-64b1-405f-9eab-e1c0530211d8"
      },
      "outputs": [
        {
          "output_type": "stream",
          "name": "stdout",
          "text": [
            "A represents Cricket\n",
            "C represents Hockey\n"
          ]
        }
      ],
      "source": [
        "sports = {\"A\": \"Cricket\", \"B\": \"Football\", \"C\": \"Hockey\", \"D\": \"Badminton\"}\n",
        "print(\"A represents\", sports[\"A\"])\n",
        "print(\"C represents\", sports[\"C\"])"
      ]
    },
    {
      "cell_type": "code",
      "execution_count": 70,
      "metadata": {
        "colab": {
          "base_uri": "https://localhost:8080/",
          "height": 200
        },
        "id": "jxMqffuOSgy2",
        "outputId": "194a17e8-845a-47f2-bb54-11ae217fae10"
      },
      "outputs": [
        {
          "output_type": "error",
          "ename": "KeyError",
          "evalue": "ignored",
          "traceback": [
            "\u001b[0;31m---------------------------------------------------------------------------\u001b[0m",
            "\u001b[0;31mKeyError\u001b[0m                                  Traceback (most recent call last)",
            "\u001b[0;32m<ipython-input-70-404bc193815c>\u001b[0m in \u001b[0;36m<module>\u001b[0;34m()\u001b[0m\n\u001b[1;32m      1\u001b[0m \u001b[0;31m#dictionary printing keys that are not present\u001b[0m\u001b[0;34m\u001b[0m\u001b[0;34m\u001b[0m\u001b[0;34m\u001b[0m\u001b[0m\n\u001b[1;32m      2\u001b[0m \u001b[0msports\u001b[0m \u001b[0;34m=\u001b[0m \u001b[0;34m{\u001b[0m\u001b[0;34m\"A\"\u001b[0m\u001b[0;34m:\u001b[0m \u001b[0;34m\"Cricket\"\u001b[0m\u001b[0;34m,\u001b[0m \u001b[0;34m\"B\"\u001b[0m\u001b[0;34m:\u001b[0m \u001b[0;34m\"Football\"\u001b[0m\u001b[0;34m,\u001b[0m \u001b[0;34m\"C\"\u001b[0m\u001b[0;34m:\u001b[0m \u001b[0;34m\"Hockey\"\u001b[0m\u001b[0;34m,\u001b[0m \u001b[0;34m\"D\"\u001b[0m\u001b[0;34m:\u001b[0m \u001b[0;34m\"Badminton\"\u001b[0m\u001b[0;34m}\u001b[0m\u001b[0;34m\u001b[0m\u001b[0;34m\u001b[0m\u001b[0m\n\u001b[0;32m----> 3\u001b[0;31m \u001b[0mprint\u001b[0m\u001b[0;34m(\u001b[0m\u001b[0;34m\"What about N?\"\u001b[0m\u001b[0;34m,\u001b[0m \u001b[0msports\u001b[0m\u001b[0;34m[\u001b[0m\u001b[0;34m\"N\"\u001b[0m\u001b[0;34m]\u001b[0m\u001b[0;34m)\u001b[0m\u001b[0;34m\u001b[0m\u001b[0;34m\u001b[0m\u001b[0m\n\u001b[0m",
            "\u001b[0;31mKeyError\u001b[0m: 'N'"
          ]
        }
      ],
      "source": [
        "#dictionary printing keys that are not present\n",
        "sports = {\"A\": \"Cricket\", \"B\": \"Football\", \"C\": \"Hockey\", \"D\": \"Badminton\"}\n",
        "print(\"What about N?\", sports[\"N\"])"
      ]
    },
    {
      "cell_type": "code",
      "execution_count": 62,
      "metadata": {
        "colab": {
          "base_uri": "https://localhost:8080/"
        },
        "id": "TP0vVAh0Sgy2",
        "outputId": "5cd31ca0-26fe-481c-c5c9-9fe4de344a64"
      },
      "outputs": [
        {
          "output_type": "stream",
          "name": "stdout",
          "text": [
            "What about N? None\n",
            "With a default value: asfasfasf\n"
          ]
        }
      ],
      "source": [
        "sports = {\"A\": \"Cricket\", \"B\": \"Football\", \"C\": \"Hockey\", \"D\": \"Badminton\"}\n",
        "print(\"What about N?\", sports.get(\"N\"))\n",
        "print(\"With a default value:\", sports.get(\"N\", \"asfasfasf\"))"
      ]
    },
    {
      "cell_type": "code",
      "execution_count": 63,
      "metadata": {
        "colab": {
          "base_uri": "https://localhost:8080/"
        },
        "id": "bCKTdDTpSgy2",
        "outputId": "0a4faefb-d174-4543-aff7-db064c25069d"
      },
      "outputs": [
        {
          "output_type": "execute_result",
          "data": {
            "text/plain": [
              "False"
            ]
          },
          "metadata": {},
          "execution_count": 63
        }
      ],
      "source": [
        "sports = {\"A\": \"Cricket\", \"B\": \"Football\", \"C\": \"Hockey\", \"D\": \"Badminton\"}\n",
        "\"T\" in sports"
      ]
    },
    {
      "cell_type": "code",
      "execution_count": 64,
      "metadata": {
        "colab": {
          "base_uri": "https://localhost:8080/"
        },
        "id": "bGJj3pQWSgy2",
        "outputId": "fced76f2-0527-4de3-a435-a9c3bb8dedb7"
      },
      "outputs": [
        {
          "output_type": "execute_result",
          "data": {
            "text/plain": [
              "True"
            ]
          },
          "metadata": {},
          "execution_count": 64
        }
      ],
      "source": [
        "sports = {\"A\": \"Cricket\", \"B\": \"Football\", \"C\": \"Hockey\", \"D\": \"Badminton\"}\n",
        "\"Y\" not in sports"
      ]
    },
    {
      "cell_type": "code",
      "execution_count": 65,
      "metadata": {
        "colab": {
          "base_uri": "https://localhost:8080/"
        },
        "id": "-6MLg5ypSgy2",
        "outputId": "668730e9-f8ed-4a56-932d-51ea747753f3"
      },
      "outputs": [
        {
          "output_type": "stream",
          "name": "stdout",
          "text": [
            "4\n"
          ]
        }
      ],
      "source": [
        "sports = {\"A\": \"Cricket\", \"B\": \"Football\", \"C\": \"Hockey\", \"D\": \"Badminton\"}\n",
        "print(len(sports))"
      ]
    },
    {
      "cell_type": "code",
      "execution_count": 66,
      "metadata": {
        "colab": {
          "base_uri": "https://localhost:8080/"
        },
        "id": "SU-9k333Sgy2",
        "outputId": "3812502b-1470-4851-fe90-2cace7588601"
      },
      "outputs": [
        {
          "output_type": "stream",
          "name": "stdout",
          "text": [
            "{'A': 'Cricket', 'B': 'Football', 'C': 'Hockey', 'D': 'Badminton', 'E': 'Kabaddi'}\n"
          ]
        }
      ],
      "source": [
        "sports = {\"A\": \"Cricket\", \"B\": \"Football\", \"C\": \"Hockey\", \"D\": \"Badminton\"}\n",
        "sports['E'] = 'Kabaddi'\n",
        "print(sports)"
      ]
    },
    {
      "cell_type": "code",
      "execution_count": 67,
      "metadata": {
        "colab": {
          "base_uri": "https://localhost:8080/"
        },
        "id": "7xm0eXr2Sgy2",
        "outputId": "35f18174-b0ee-482d-ed50-e6aacf464ef0"
      },
      "outputs": [
        {
          "output_type": "stream",
          "name": "stdout",
          "text": [
            "{'A': 'Cricket', 'B': 'Football', 'C': 'Hockey', 'D': 'Badminton', 'E': 'Kabaddi', 'F': 'Volley Ball'}\n"
          ]
        }
      ],
      "source": [
        "sports = {\"A\": \"Cricket\", \"B\": \"Football\", \"C\": \"Hockey\", \"D\": \"Badminton\", \"E\": \"Kabaddi\"}\n",
        "sports['F'] = 'Volley Ball'\n",
        "print(sports)"
      ]
    },
    {
      "cell_type": "code",
      "execution_count": 68,
      "metadata": {
        "colab": {
          "base_uri": "https://localhost:8080/"
        },
        "id": "QQP0o8p-Sgy3",
        "outputId": "c7af4ccf-9428-4625-9aaa-10d1d231b9ce"
      },
      "outputs": [
        {
          "output_type": "stream",
          "name": "stdout",
          "text": [
            "{'A': 'Cricket', 'B': 'Football', 'C': 'Hockey', 'D': 'Badminton', 'E': 'Kabaddi'}\n"
          ]
        }
      ],
      "source": [
        "sports = {\"A\": \"Cricket\", \"B\": \"Football\", \"C\": \"Hockey\", \"D\": \"Badminton\", \"E\": \"Kabaddi\", 'F': 'Volley Ball'}\n",
        "del sports['F']\n",
        "print(sports)"
      ]
    },
    {
      "cell_type": "code",
      "execution_count": 73,
      "metadata": {
        "colab": {
          "base_uri": "https://localhost:8080/"
        },
        "id": "iwvzzbIWSgy3",
        "outputId": "2eea23d4-66b2-4d5e-f807-dbc68a9890e0"
      },
      "outputs": [
        {
          "output_type": "stream",
          "name": "stdout",
          "text": [
            "dict_keys(['A', 'B', 'C', 'D', 'E'])\n"
          ]
        }
      ],
      "source": [
        "sports = {\"A\": \"Cricket\", \"B\": \"Football\", \"C\": \"Hockey\", \"D\": \"Badminton\", \"E\": \"Kabaddi\"}\n",
        "print(sports.keys())"
      ]
    },
    {
      "cell_type": "code",
      "execution_count": 74,
      "metadata": {
        "colab": {
          "base_uri": "https://localhost:8080/"
        },
        "id": "w5OZOr81Sgy3",
        "outputId": "41e2ce2a-0b11-4219-fcbf-1ba58e818ed0"
      },
      "outputs": [
        {
          "output_type": "stream",
          "name": "stdout",
          "text": [
            "dict_values(['Cricket', 'Football', 'Hockey', 'Badminton', 'Kabaddi'])\n"
          ]
        }
      ],
      "source": [
        "sports = {\"A\": \"Cricket\", \"B\": \"Football\", \"C\": \"Hockey\", \"D\": \"Badminton\", \"E\": \"Kabaddi\"}\n",
        "print(sports.values())"
      ]
    },
    {
      "cell_type": "code",
      "execution_count": 75,
      "metadata": {
        "colab": {
          "base_uri": "https://localhost:8080/"
        },
        "id": "2Ff4raewSgy3",
        "outputId": "899e7b7f-cdb5-4138-949c-7d36351f0752"
      },
      "outputs": [
        {
          "output_type": "stream",
          "name": "stdout",
          "text": [
            "dict_items([('A', 'Cricket'), ('B', 'Football'), ('C', 'Hockey'), ('D', 'Badminton'), ('E', 'Kabaddi')])\n"
          ]
        }
      ],
      "source": [
        "sports = {\"A\": \"Cricket\", \"B\": \"Football\", \"C\": \"Hockey\", \"D\": \"Badminton\", \"E\": \"Kabaddi\"}\n",
        "print(sports.items())"
      ]
    }
  ],
  "metadata": {
    "kernelspec": {
      "display_name": "Python 3",
      "language": "python",
      "name": "python3"
    },
    "language_info": {
      "codemirror_mode": {
        "name": "ipython",
        "version": 3
      },
      "file_extension": ".py",
      "mimetype": "text/x-python",
      "name": "python",
      "nbconvert_exporter": "python",
      "pygments_lexer": "ipython3",
      "version": "3.7.10"
    },
    "colab": {
      "name": "demo6.ipynb",
      "provenance": [],
      "include_colab_link": true
    }
  },
  "nbformat": 4,
  "nbformat_minor": 0
}