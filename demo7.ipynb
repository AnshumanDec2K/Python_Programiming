{
  "cells": [
    {
      "cell_type": "markdown",
      "metadata": {
        "id": "view-in-github",
        "colab_type": "text"
      },
      "source": [
        "<a href=\"https://colab.research.google.com/github/AnshumanDec2K/Python_Programming/blob/main/demo7.ipynb\" target=\"_parent\"><img src=\"https://colab.research.google.com/assets/colab-badge.svg\" alt=\"Open In Colab\"/></a>"
      ]
    },
    {
      "cell_type": "markdown",
      "source": [
        "# This Notebook has the demo for functions in python"
      ],
      "metadata": {
        "id": "KmW6NDxOK9qp"
      }
    },
    {
      "cell_type": "code",
      "execution_count": null,
      "metadata": {
        "colab": {
          "base_uri": "https://localhost:8080/"
        },
        "id": "CEPfLAgbJnKu",
        "outputId": "a63d7a3a-63c4-452b-c95f-7bffb430ff4b"
      },
      "outputs": [
        {
          "output_type": "stream",
          "name": "stdout",
          "text": [
            "num is :  10\n",
            "abc inside function is :  10\n",
            "abc outside function is :  5\n",
            "3.0\n"
          ]
        }
      ],
      "source": [
        "abc=5\n",
        "def average(prices, abc):\n",
        "    total = 0 \n",
        "    print('num is : ',num)\n",
        "    print('abc inside function is : ',abc)\n",
        "    for price in prices: \n",
        "        total = total + price \n",
        "    avg = total/len(prices)\n",
        "    return avg\n",
        "numbers = [1,2,3,4,5]\n",
        "num = 10 \n",
        "my_average = average(numbers, num)\n",
        "print('abc outside function is : ',abc)\n",
        "print(my_average) "
      ]
    },
    {
      "cell_type": "code",
      "execution_count": null,
      "metadata": {
        "colab": {
          "base_uri": "https://localhost:8080/"
        },
        "id": "AgYbBuUgJnK3",
        "outputId": "c70b6895-4e0b-4295-e88c-e65f99a954ab"
      },
      "outputs": [
        {
          "output_type": "stream",
          "name": "stdout",
          "text": [
            "25\n",
            "28.75\n"
          ]
        }
      ],
      "source": [
        "order_goal = 25\n",
        "def average(numbers):\n",
        "    total = 0\n",
        "    for num in numbers:\n",
        "        total = total + num\n",
        "    avg = total/len(numbers)\n",
        "    return avg\n",
        "def main():\n",
        "    prices = [29, 21, 55, 10]\n",
        "    result = average(prices)\n",
        "    print(order_goal)\n",
        "    print(result)\n",
        "main()\n"
      ]
    },
    {
      "cell_type": "code",
      "execution_count": null,
      "metadata": {
        "id": "mWCn5GupJnK5"
      },
      "outputs": [],
      "source": [
        ""
      ]
    },
    {
      "cell_type": "code",
      "execution_count": null,
      "metadata": {
        "id": "VnRM79weJnK5"
      },
      "outputs": [],
      "source": [
        ""
      ]
    },
    {
      "cell_type": "code",
      "execution_count": null,
      "metadata": {
        "colab": {
          "base_uri": "https://localhost:8080/"
        },
        "id": "xqWIK1h9JnK6",
        "outputId": "437ba59b-f17f-40c0-a107-f4e6fc1280b4"
      },
      "outputs": [
        {
          "output_type": "stream",
          "name": "stdout",
          "text": [
            "3.0\n",
            "6\n"
          ]
        }
      ],
      "source": [
        "x = abs(-3.0)\n",
        "print(x)\n",
        "\n",
        "l = len(\"ABCDEF\")\n",
        "print(l)"
      ]
    },
    {
      "cell_type": "code",
      "execution_count": null,
      "metadata": {
        "colab": {
          "base_uri": "https://localhost:8080/"
        },
        "id": "aTbsgStrJnK7",
        "outputId": "08c4fdec-236a-490b-a40e-994a09765668"
      },
      "outputs": [
        {
          "output_type": "stream",
          "name": "stdout",
          "text": [
            "Hello world!\n"
          ]
        }
      ],
      "source": [
        "def sayHello():\n",
        "    print('Hello world!')\n",
        "    \n",
        "sayHello()"
      ]
    },
    {
      "cell_type": "code",
      "execution_count": null,
      "metadata": {
        "colab": {
          "base_uri": "https://localhost:8080/"
        },
        "id": "WoHeaLntJnK9",
        "outputId": "b794032c-c54f-4d01-fed2-0ca64c25897e"
      },
      "outputs": [
        {
          "output_type": "stream",
          "name": "stdout",
          "text": [
            "Hello world!\n"
          ]
        }
      ],
      "source": [
        "sayHello() # Call the function to print 'Hello world'"
      ]
    },
    {
      "cell_type": "code",
      "execution_count": null,
      "metadata": {
        "id": "5vWwuTNzJnK-"
      },
      "outputs": [],
      "source": [
        "def sayHello(name):\n",
        "    print('Hello', name)"
      ]
    },
    {
      "cell_type": "code",
      "execution_count": null,
      "metadata": {
        "colab": {
          "base_uri": "https://localhost:8080/"
        },
        "id": "9GQT3WcdJnLA",
        "outputId": "237feede-67de-4e9d-a4a6-ad3026e7656e"
      },
      "outputs": [
        {
          "output_type": "stream",
          "name": "stdout",
          "text": [
            "Hello User\n"
          ]
        }
      ],
      "source": [
        "sayHello('User')  # Prints 'Hello User'"
      ]
    },
    {
      "cell_type": "code",
      "execution_count": null,
      "metadata": {
        "colab": {
          "base_uri": "https://localhost:8080/"
        },
        "id": "SWxtYyixJnLB",
        "outputId": "55edef53-dabf-45cf-dc36-b2c1cd9e449d"
      },
      "outputs": [
        {
          "output_type": "stream",
          "name": "stdout",
          "text": [
            "Hello Mary\n"
          ]
        }
      ],
      "source": [
        "text = 'Mary'\n",
        "sayHello(text)     # Prints 'Hello Mary'"
      ]
    },
    {
      "cell_type": "code",
      "execution_count": null,
      "metadata": {
        "id": "p1wfaq89JnLC"
      },
      "outputs": [],
      "source": [
        "def square(x):\n",
        "  y = x*x\n",
        "  return y"
      ]
    },
    {
      "cell_type": "code",
      "execution_count": null,
      "metadata": {
        "colab": {
          "base_uri": "https://localhost:8080/"
        },
        "id": "VtjscF_xJnLD",
        "outputId": "dbdc4e4a-88c4-410c-99f1-0edda8c63408"
      },
      "outputs": [
        {
          "output_type": "stream",
          "name": "stdout",
          "text": [
            "49\n"
          ]
        }
      ],
      "source": [
        "number = 7\n",
        "result = square(number) # Call the square() function which returns a result\n",
        "print(result)           # Prints: 49"
      ]
    },
    {
      "cell_type": "code",
      "execution_count": null,
      "metadata": {
        "colab": {
          "base_uri": "https://localhost:8080/"
        },
        "id": "wFuNNXE0JnLE",
        "outputId": "d872b855-b943-4e1c-adf5-f24211c18e9f"
      },
      "outputs": [
        {
          "output_type": "stream",
          "name": "stdout",
          "text": [
            "1.4399999999999998e-06\n"
          ]
        }
      ],
      "source": [
        "print(square(1.2e-3))   # Prints: 1.4399999999999998e-06"
      ]
    },
    {
      "cell_type": "code",
      "execution_count": null,
      "metadata": {
        "colab": {
          "base_uri": "https://localhost:8080/"
        },
        "id": "enEfdTgBJnLF",
        "outputId": "652482d0-72f3-4c0a-8155-cd69d43a0ede"
      },
      "outputs": [
        {
          "output_type": "stream",
          "name": "stdout",
          "text": [
            "5.999396\n"
          ]
        }
      ],
      "source": [
        "def calcFunc(x, y):\n",
        "  z = x*x + y*y\n",
        "  return z\n",
        "\n",
        "\n",
        "result = calcFunc(1.414, 2.0)\n",
        "print(result)  #  5.999396"
      ]
    },
    {
      "cell_type": "code",
      "execution_count": null,
      "metadata": {
        "id": "fksK7q2iJnLG"
      },
      "outputs": [],
      "source": [
        "def calcDistance(vec1, vec2):    \n",
        "    dist = 0\n",
        "    for i in range(len(vec1)):\n",
        "        delta = vec1[i] - vec2[i]\n",
        "        dist += delta*delta\n",
        "    dist = dist**(1/2) # square-root\n",
        "    return dist"
      ]
    },
    {
      "cell_type": "code",
      "execution_count": null,
      "metadata": {
        "colab": {
          "base_uri": "https://localhost:8080/"
        },
        "id": "pemT0503JnLG",
        "outputId": "2ef1f031-fe02-4e31-ae8f-0e0cc51b3f1f"
      },
      "outputs": [
        {
          "output_type": "execute_result",
          "data": {
            "text/plain": [
              "19.914567532336726"
            ]
          },
          "metadata": {},
          "execution_count": 14
        }
      ],
      "source": [
        "w1 = ( 23.1, 17.8, -5.6 )\n",
        "w2 = ( 8.4, 15.9, 7.7 )\n",
        "calcDistance( w1, w2 )"
      ]
    },
    {
      "cell_type": "code",
      "execution_count": null,
      "metadata": {
        "colab": {
          "base_uri": "https://localhost:8080/"
        },
        "id": "iEYYkrVpJnLH",
        "outputId": "916b6e34-c4f9-49a5-f0b9-f372cde2bbb4"
      },
      "outputs": [
        {
          "output_type": "execute_result",
          "data": {
            "text/plain": [
              "2.8284271247461903"
            ]
          },
          "metadata": {},
          "execution_count": 15
        }
      ],
      "source": [
        "calcDistance( ( 1, 2 ), ( 3, 4 ) ) # dimension: 2"
      ]
    },
    {
      "cell_type": "code",
      "execution_count": null,
      "metadata": {
        "colab": {
          "base_uri": "https://localhost:8080/"
        },
        "id": "BByriO6QJnLI",
        "outputId": "111eeffe-eaed-4005-bab8-70a237b11170"
      },
      "outputs": [
        {
          "output_type": "execute_result",
          "data": {
            "text/plain": [
              "2.8284271247461903"
            ]
          },
          "metadata": {},
          "execution_count": 16
        }
      ],
      "source": [
        "calcDistance( [ 1, 2 ], [ 3, 4 ] ) # vectors represented as lists"
      ]
    },
    {
      "cell_type": "code",
      "execution_count": null,
      "metadata": {
        "colab": {
          "base_uri": "https://localhost:8080/"
        },
        "id": "kHOz2O0oJnLI",
        "outputId": "5bbf2b40-63b6-4a1d-b418-c1e9c5114414"
      },
      "outputs": [
        {
          "output_type": "execute_result",
          "data": {
            "text/plain": [
              "2.8284271247461903"
            ]
          },
          "metadata": {},
          "execution_count": 17
        }
      ],
      "source": [
        "calcDistance( ( 1, 2 ), [ 3, 4 ] ) # mixed representation"
      ]
    },
    {
      "cell_type": "code",
      "execution_count": null,
      "metadata": {
        "colab": {
          "base_uri": "https://localhost:8080/"
        },
        "id": "tEnAnNw_JnLJ",
        "outputId": "a5f99151-7bfa-4bbf-bbc1-ef058eb86de2"
      },
      "outputs": [
        {
          "output_type": "stream",
          "name": "stdout",
          "text": [
            "getSign( 33.6 ): Positive\n",
            "getSign( -7 ): Negative\n",
            "getSign( 0 ): None\n"
          ]
        }
      ],
      "source": [
        "def getSign(value):\n",
        "    \n",
        "    if value > 0:\n",
        "        return \"Positive\"\n",
        "    \n",
        "    elif value < 0:\n",
        "        return \"Negative\"\n",
        "    \n",
        "    return # implicit 'None'\n",
        "\n",
        "    print(\"Hello world\") # execution does not reach this line\n",
        "    \n",
        "print(\"getSign( 33.6 ):\", getSign( 33.6 ))\n",
        "print(\"getSign( -7 ):\", getSign( -7 ))\n",
        "print(\"getSign( 0 ):\", getSign( 0 ))"
      ]
    },
    {
      "cell_type": "code",
      "execution_count": null,
      "metadata": {
        "colab": {
          "base_uri": "https://localhost:8080/"
        },
        "id": "1N6HRF1kJnLK",
        "outputId": "c0fbade4-b627-4af8-809a-35014b44fd04"
      },
      "outputs": [
        {
          "output_type": "stream",
          "name": "stdout",
          "text": [
            "Results as a tuple: (10, -4, 21)\n",
            "x: 10\n",
            "y: -4\n",
            "z: 21\n"
          ]
        }
      ],
      "source": [
        "def myFunction(value1, value2):\n",
        "    \n",
        "    total = value1 + value2\n",
        "    difference = value1 - value2\n",
        "    product = value1 * value2\n",
        "    \n",
        "    return total, difference, product\n",
        "\n",
        "values = myFunction( 3, 7 )  # Grab output as a whole tuple\n",
        "print(\"Results as a tuple:\", values)\n",
        "\n",
        "x, y, z = myFunction( 3, 7 ) # Unpack tuple to grab individual values\n",
        "print(\"x:\", x)\n",
        "print(\"y:\", y)\n",
        "print(\"z:\", z)"
      ]
    },
    {
      "cell_type": "code",
      "execution_count": null,
      "metadata": {
        "id": "3o15wnDYJnLK"
      },
      "outputs": [],
      "source": [
        "def square(number):\n",
        "    # one mandatory argument\n",
        "    y = number*number\n",
        "    return y"
      ]
    },
    {
      "cell_type": "code",
      "execution_count": null,
      "metadata": {
        "colab": {
          "base_uri": "https://localhost:8080/"
        },
        "id": "O2Ud4UuYJnLK",
        "outputId": "1c86200c-1e27-4550-ba4f-7b1378268488"
      },
      "outputs": [
        {
          "output_type": "execute_result",
          "data": {
            "text/plain": [
              "4"
            ]
          },
          "metadata": {},
          "execution_count": 21
        }
      ],
      "source": [
        "square(2)"
      ]
    },
    {
      "cell_type": "code",
      "execution_count": null,
      "metadata": {
        "colab": {
          "base_uri": "https://localhost:8080/"
        },
        "id": "AXiHzlqhJnLL",
        "outputId": "c9545fda-0c4d-469c-e0e8-e9a97e94b2e6"
      },
      "outputs": [
        {
          "output_type": "execute_result",
          "data": {
            "text/plain": [
              "9"
            ]
          },
          "metadata": {},
          "execution_count": 22
        }
      ],
      "source": [
        "square(number=3)"
      ]
    },
    {
      "cell_type": "code",
      "execution_count": null,
      "metadata": {
        "colab": {
          "base_uri": "https://localhost:8080/"
        },
        "id": "BgnEXFk5JnLL",
        "outputId": "65e405ff-6bf4-4699-e110-981d26fbb841"
      },
      "outputs": [
        {
          "output_type": "stream",
          "name": "stdout",
          "text": [
            "abcabcabc\n",
            "XYZXYZXYZXYZ\n"
          ]
        }
      ],
      "source": [
        "def repeat(seq, n):\n",
        "    # two mandatory arguments\n",
        "    result = ''\n",
        "    for i in range(0,n):\n",
        "        result += seq\n",
        "    return result\n",
        "\n",
        "print(repeat(\"abc\", 3))\n",
        "print(repeat(n=4, seq=\"XYZ\"))"
      ]
    },
    {
      "cell_type": "code",
      "execution_count": null,
      "metadata": {
        "colab": {
          "base_uri": "https://localhost:8080/"
        },
        "id": "p7IyYEaxJnLL",
        "outputId": "4d6a833e-dffa-4477-9b83-7ed8049753e6"
      },
      "outputs": [
        {
          "output_type": "stream",
          "name": "stdout",
          "text": [
            "LMNLMNLMN\n"
          ]
        }
      ],
      "source": [
        "print(repeat(seq=\"LMN\", n=3))"
      ]
    },
    {
      "cell_type": "code",
      "execution_count": null,
      "metadata": {
        "colab": {
          "base_uri": "https://localhost:8080/"
        },
        "id": "XRsQzfAhJnLL",
        "outputId": "99f23924-e960-497c-b7bd-4e6d6f71c126"
      },
      "outputs": [
        {
          "output_type": "stream",
          "name": "stdout",
          "text": [
            "Running simulation for 500 steps\n",
            "Running simulation for 1000 steps\n"
          ]
        }
      ],
      "source": [
        "def runSimulation(nsteps=1000):\n",
        "    print(\"Running simulation for\", nsteps, \"steps\")\n",
        "\n",
        "runSimulation(500)\n",
        "runSimulation()"
      ]
    },
    {
      "cell_type": "code",
      "execution_count": null,
      "metadata": {
        "colab": {
          "base_uri": "https://localhost:8080/"
        },
        "id": "LoQ6FOCZJnLL",
        "outputId": "c1cc1a4b-18cc-47d7-a9d7-45134b2e3958"
      },
      "outputs": [
        {
          "output_type": "stream",
          "name": "stdout",
          "text": [
            "[100]\n",
            "[100, 100]\n",
            "[100, 100, 100]\n",
            "[100]\n",
            "[100]\n",
            "[100]\n"
          ]
        }
      ],
      "source": [
        "def myFunction(parameters=[]):\n",
        "    parameters.append( 100 )\n",
        "    print(parameters)\n",
        "    \n",
        "myFunction()\n",
        "myFunction()\n",
        "myFunction()\n",
        "myFunction([])\n",
        "myFunction([])\n",
        "myFunction([])"
      ]
    },
    {
      "cell_type": "code",
      "execution_count": null,
      "metadata": {
        "colab": {
          "base_uri": "https://localhost:8080/"
        },
        "id": "VT7Nr1-EJnLM",
        "outputId": "5394eae7-d5b9-4b62-915c-23217de0a67d"
      },
      "outputs": [
        {
          "output_type": "stream",
          "name": "stdout",
          "text": [
            "[100]\n",
            "[100, 100]\n",
            "[100, 100, 100]\n",
            "[100]\n"
          ]
        }
      ],
      "source": [
        "def myFunction(parameters):\n",
        "    # one mandatory argument without default value\n",
        "    parameters.append( 100 )\n",
        "    print(parameters)\n",
        "    \n",
        "my_list = []\n",
        "myFunction(my_list)\n",
        "myFunction(my_list)\n",
        "myFunction(my_list)\n",
        "my_new_list = []\n",
        "myFunction(my_new_list)"
      ]
    },
    {
      "cell_type": "code",
      "execution_count": null,
      "metadata": {
        "colab": {
          "base_uri": "https://localhost:8080/"
        },
        "id": "x-J9cxvKJnLM",
        "outputId": "90919687-c93e-41a9-8f65-96c41b43454e"
      },
      "outputs": [
        {
          "output_type": "stream",
          "name": "stdout",
          "text": [
            "Running simulation starting at 300 K and doing 500 steps\n",
            "Running simulation starting at 300 K and doing 1000 steps\n"
          ]
        }
      ],
      "source": [
        "def runSimulation(initialTemperature, nsteps=1000):\n",
        "    # one mandatory argument followed by one with default value\n",
        "    print(\"Running simulation starting at\", initialTemperature, \"K and doing\", nsteps, \"steps\")\n",
        "    \n",
        "runSimulation(300, 500)\n",
        "runSimulation(300)"
      ]
    },
    {
      "cell_type": "code",
      "execution_count": null,
      "metadata": {
        "colab": {
          "base_uri": "https://localhost:8080/"
        },
        "id": "wtQoZfxwJnLM",
        "outputId": "389da000-67f3-4734-fa56-b0a1393b0509"
      },
      "outputs": [
        {
          "output_type": "stream",
          "name": "stdout",
          "text": [
            "Running simulation starting at 300 K and doing 100 steps\n"
          ]
        }
      ],
      "source": [
        "runSimulation( nsteps=100, initialTemperature=300 )"
      ]
    },
    {
      "cell_type": "code",
      "execution_count": null,
      "metadata": {
        "colab": {
          "base_uri": "https://localhost:8080/"
        },
        "id": "ifBs7-9kJnLM",
        "outputId": "efe47c3e-b6e2-46ca-cf09-4317c1bd2f80"
      },
      "outputs": [
        {
          "output_type": "stream",
          "name": "stdout",
          "text": [
            "Running simulation starting at 300 K and doing 1000 steps\n"
          ]
        }
      ],
      "source": [
        "runSimulation( initialTemperature=300 )"
      ]
    },
    {
      "cell_type": "code",
      "execution_count": null,
      "metadata": {
        "colab": {
          "base_uri": "https://localhost:8080/",
          "height": 171
        },
        "id": "4tpZShylJnLM",
        "outputId": "7911c42f-d3f8-46a3-8610-f2063992a6b3"
      },
      "outputs": [
        {
          "output_type": "error",
          "ename": "TypeError",
          "evalue": "ignored",
          "traceback": [
            "\u001b[0;31m---------------------------------------------------------------------------\u001b[0m",
            "\u001b[0;31mTypeError\u001b[0m                                 Traceback (most recent call last)",
            "\u001b[0;32m<ipython-input-31-8dc459a82a21>\u001b[0m in \u001b[0;36m<module>\u001b[0;34m()\u001b[0m\n\u001b[0;32m----> 1\u001b[0;31m \u001b[0mrunSimulation\u001b[0m\u001b[0;34m(\u001b[0m \u001b[0mnsteps\u001b[0m\u001b[0;34m=\u001b[0m\u001b[0;36m100\u001b[0m \u001b[0;34m)\u001b[0m \u001b[0;31m# Error: missing required argument 'initialTemperature'\u001b[0m\u001b[0;34m\u001b[0m\u001b[0;34m\u001b[0m\u001b[0m\n\u001b[0m",
            "\u001b[0;31mTypeError\u001b[0m: runSimulation() missing 1 required positional argument: 'initialTemperature'"
          ]
        }
      ],
      "source": [
        "runSimulation( nsteps=100 ) # Error: missing required argument 'initialTemperature'"
      ]
    },
    {
      "cell_type": "code",
      "execution_count": null,
      "metadata": {
        "colab": {
          "base_uri": "https://localhost:8080/",
          "height": 135
        },
        "id": "0GYXcNykJnLN",
        "outputId": "106907d3-cb0d-4fdd-d468-984748905f27"
      },
      "outputs": [
        {
          "output_type": "error",
          "ename": "SyntaxError",
          "evalue": "ignored",
          "traceback": [
            "\u001b[0;36m  File \u001b[0;32m\"<ipython-input-32-16457f725b35>\"\u001b[0;36m, line \u001b[0;32m1\u001b[0m\n\u001b[0;31m    runSimulation( nsteps=100, 300 ) # Error: positional argument follows keyword argument\u001b[0m\n\u001b[0m                              ^\u001b[0m\n\u001b[0;31mSyntaxError\u001b[0m\u001b[0;31m:\u001b[0m positional argument follows keyword argument\n"
          ]
        }
      ],
      "source": [
        "runSimulation( nsteps=100, 300 ) # Error: positional argument follows keyword argument"
      ]
    },
    {
      "cell_type": "code",
      "execution_count": null,
      "metadata": {
        "colab": {
          "base_uri": "https://localhost:8080/",
          "height": 171
        },
        "id": "-jQ5QpeqJnLN",
        "outputId": "48533015-c226-4aae-9682-07159dc47411"
      },
      "outputs": [
        {
          "output_type": "error",
          "ename": "TypeError",
          "evalue": "ignored",
          "traceback": [
            "\u001b[0;31m---------------------------------------------------------------------------\u001b[0m",
            "\u001b[0;31mTypeError\u001b[0m                                 Traceback (most recent call last)",
            "\u001b[0;32m<ipython-input-33-ea2a1f78bbaa>\u001b[0m in \u001b[0;36m<module>\u001b[0;34m()\u001b[0m\n\u001b[0;32m----> 1\u001b[0;31m \u001b[0mrunSimulation\u001b[0m\u001b[0;34m(\u001b[0m \u001b[0minitialTemperature\u001b[0m\u001b[0;34m=\u001b[0m\u001b[0;36m300\u001b[0m\u001b[0;34m,\u001b[0m \u001b[0mnumSteps\u001b[0m\u001b[0;34m=\u001b[0m\u001b[0;36m100\u001b[0m \u001b[0;34m)\u001b[0m \u001b[0;31m# Error: unexpected keyword argument 'numSteps'\u001b[0m\u001b[0;34m\u001b[0m\u001b[0;34m\u001b[0m\u001b[0m\n\u001b[0m",
            "\u001b[0;31mTypeError\u001b[0m: runSimulation() got an unexpected keyword argument 'numSteps'"
          ]
        }
      ],
      "source": [
        "runSimulation( initialTemperature=300, numSteps=100 ) # Error: unexpected keyword argument 'numSteps'"
      ]
    },
    {
      "cell_type": "code",
      "execution_count": null,
      "metadata": {
        "colab": {
          "base_uri": "https://localhost:8080/",
          "height": 135
        },
        "id": "iZ7kgnH-JnLN",
        "outputId": "a4c4513b-786b-44ce-d8a0-7f7f7f3fb7c7"
      },
      "outputs": [
        {
          "output_type": "error",
          "ename": "SyntaxError",
          "evalue": "ignored",
          "traceback": [
            "\u001b[0;36m  File \u001b[0;32m\"<ipython-input-34-45eb48bd73cc>\"\u001b[0;36m, line \u001b[0;32m1\u001b[0m\n\u001b[0;31m    def badFunction(nsteps=1000, initialTemperature):\u001b[0m\n\u001b[0m                   ^\u001b[0m\n\u001b[0;31mSyntaxError\u001b[0m\u001b[0;31m:\u001b[0m non-default argument follows default argument\n"
          ]
        }
      ],
      "source": [
        "def badFunction(nsteps=1000, initialTemperature):\n",
        "    pass"
      ]
    },
    {
      "cell_type": "code",
      "execution_count": null,
      "metadata": {
        "id": "axhLUaZdJnLN"
      },
      "outputs": [],
      "source": [
        "def mathFunction(x, y):\n",
        "    math_func_result = ( x + y ) * ( x - y )\n",
        "    return math_func_result"
      ]
    },
    {
      "cell_type": "code",
      "execution_count": null,
      "metadata": {
        "colab": {
          "base_uri": "https://localhost:8080/"
        },
        "id": "-1MRbXQYJnLN",
        "outputId": "84e77b42-7400-4629-9089-2b385122bc5d"
      },
      "outputs": [
        {
          "output_type": "stream",
          "name": "stdout",
          "text": [
            "-33\n"
          ]
        }
      ],
      "source": [
        "answer = mathFunction( 4, 7 )\n",
        "print(answer)"
      ]
    },
    {
      "cell_type": "code",
      "execution_count": null,
      "metadata": {
        "colab": {
          "base_uri": "https://localhost:8080/"
        },
        "id": "DpM0gCDJJnLO",
        "outputId": "1d2b21a6-f64e-461f-e403-b01fec47e40c"
      },
      "outputs": [
        {
          "output_type": "stream",
          "name": "stdout",
          "text": [
            "1\n",
            "1\n"
          ]
        }
      ],
      "source": [
        "counter = 1\n",
        "def increment(counter): \n",
        "    print(counter)\n",
        "    counter += 1\n",
        "\n",
        "increment(counter)\n",
        "print(counter)"
      ]
    },
    {
      "cell_type": "code",
      "execution_count": null,
      "metadata": {
        "colab": {
          "base_uri": "https://localhost:8080/"
        },
        "id": "t8nKpCB7JnLO",
        "outputId": "09404d06-e552-4cd5-b009-b45b9b3db091"
      },
      "outputs": [
        {
          "output_type": "stream",
          "name": "stdout",
          "text": [
            "1\n",
            "2\n"
          ]
        }
      ],
      "source": [
        "counter = 1\n",
        "def increment(): \n",
        "    global counter\n",
        "    print(counter)\n",
        "    counter += 1\n",
        "\n",
        "increment()\n",
        "print(counter)"
      ]
    },
    {
      "cell_type": "code",
      "execution_count": null,
      "metadata": {
        "colab": {
          "base_uri": "https://localhost:8080/"
        },
        "id": "glpb9sibJnLO",
        "outputId": "a4dce420-cb75-4433-b084-92eb7ef6d951"
      },
      "outputs": [
        {
          "output_type": "stream",
          "name": "stdout",
          "text": [
            "1\n"
          ]
        }
      ],
      "source": [
        "def increment(counter): \n",
        "    return counter + 1\n",
        "\n",
        "counter = 0\n",
        "counter = increment( counter ) \n",
        "print(counter)"
      ]
    }
  ],
  "metadata": {
    "kernelspec": {
      "display_name": "Python 3",
      "language": "python",
      "name": "python3"
    },
    "language_info": {
      "codemirror_mode": {
        "name": "ipython",
        "version": 3
      },
      "file_extension": ".py",
      "mimetype": "text/x-python",
      "name": "python",
      "nbconvert_exporter": "python",
      "pygments_lexer": "ipython3",
      "version": "3.7.10"
    },
    "colab": {
      "name": "demo7.ipynb",
      "provenance": [],
      "collapsed_sections": [],
      "include_colab_link": true
    }
  },
  "nbformat": 4,
  "nbformat_minor": 0
}