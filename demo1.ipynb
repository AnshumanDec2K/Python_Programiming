{
  "cells": [
    {
      "cell_type": "markdown",
      "metadata": {
        "id": "view-in-github",
        "colab_type": "text"
      },
      "source": [
        "<a href=\"https://colab.research.google.com/github/AnshumanDec2K/Python_Programming/blob/main/demo1.ipynb\" target=\"_parent\"><img src=\"https://colab.research.google.com/assets/colab-badge.svg\" alt=\"Open In Colab\"/></a>"
      ]
    },
    {
      "cell_type": "markdown",
      "source": [
        "###**This Notebook has the demo for basic conditonal, iterational and jump statements.** "
      ],
      "metadata": {
        "id": "smW-tyhoyRCG"
      },
      "id": "smW-tyhoyRCG"
    },
    {
      "cell_type": "code",
      "execution_count": null,
      "id": "commercial-flower",
      "metadata": {
        "colab": {
          "base_uri": "https://localhost:8080/"
        },
        "id": "commercial-flower",
        "outputId": "73663e6d-cef6-4d57-f92e-7742b24d239d"
      },
      "outputs": [
        {
          "output_type": "stream",
          "name": "stdout",
          "text": [
            "<class 'int'>\n",
            "<class 'float'>\n",
            "10.0\n",
            "<class 'float'>\n",
            "21.0\n",
            "<class 'float'>\n"
          ]
        }
      ],
      "source": [
        "# Python has the ability to type convert based upon the value assigned\n",
        "a = 7\n",
        "print(type(a)) \n",
        "\n",
        "# Example 2 of type conversion\n",
        "b = 3.0\n",
        "print(type(b))\n",
        " \n",
        "# Example 3 of type conversion\n",
        "c = a + b\n",
        "print(c)\n",
        "print(type(c)) \n",
        "\n",
        "# Example 4 of type conversion\n",
        "d = a * b\n",
        "print(d)\n",
        "print(type(d))"
      ]
    },
    {
      "cell_type": "code",
      "execution_count": null,
      "id": "systematic-moscow",
      "metadata": {
        "colab": {
          "base_uri": "https://localhost:8080/"
        },
        "id": "systematic-moscow",
        "outputId": "1133e611-c36b-4198-868e-ae130e184106"
      },
      "outputs": [
        {
          "output_type": "stream",
          "name": "stdout",
          "text": [
            "10 loops, best of 5: 141 ms per loop\n",
            "1000 loops, best of 5: 314 µs per loop\n"
          ]
        }
      ],
      "source": [
        "import numpy as np\n",
        "B = np.random.rand(1000000)\n",
        "%timeit sum(B)\n",
        "%timeit np.sum(B)\n"
      ]
    },
    {
      "cell_type": "code",
      "execution_count": null,
      "id": "intimate-middle",
      "metadata": {
        "colab": {
          "base_uri": "https://localhost:8080/"
        },
        "id": "intimate-middle",
        "outputId": "7b5989cc-c58e-40ba-d684-3f977833806e"
      },
      "outputs": [
        {
          "output_type": "stream",
          "name": "stdout",
          "text": [
            "499783.51506110554\n",
            "499783.51506110554\n",
            "499783.51506110554\n",
            "499783.51506110554\n",
            "499783.51506110554\n",
            "499783.51506110554\n",
            "1 loop, best of 5: 190 ms per loop\n"
          ]
        }
      ],
      "source": [
        "\n",
        "%%timeit\n",
        "S=0\n",
        "for x in B:\n",
        "    S = S + x\n",
        "print(S)"
      ]
    },
    {
      "cell_type": "code",
      "execution_count": null,
      "id": "desirable-silence",
      "metadata": {
        "colab": {
          "base_uri": "https://localhost:8080/"
        },
        "id": "desirable-silence",
        "outputId": "064c2516-29da-4c6a-87a8-cbc514bced5a"
      },
      "outputs": [
        {
          "output_type": "stream",
          "name": "stdout",
          "text": [
            "Enter the price: 132\n",
            "Price = 132.0\n",
            "Not a number!\n"
          ]
        }
      ],
      "source": [
        "price = input(\"Enter the price: \")\n",
        "price = float(price) \n",
        "print('Price =', price)\n",
        "print('Not a number!')"
      ]
    },
    {
      "cell_type": "code",
      "execution_count": null,
      "id": "compressed-pacific",
      "metadata": {
        "colab": {
          "base_uri": "https://localhost:8080/"
        },
        "id": "compressed-pacific",
        "outputId": "5ba0477e-5b47-4cbb-c663-fc2a10a71ef7"
      },
      "outputs": [
        {
          "output_type": "stream",
          "name": "stdout",
          "text": [
            "Enter the price: 211\n",
            "Price = 211.0\n"
          ]
        }
      ],
      "source": [
        "price = input(\"Enter the price: \")\n",
        "try:\n",
        "    price = float(price) \n",
        "    print('Price =', price)\n",
        "except ValueError:\n",
        "    print('Not a number!')"
      ]
    },
    {
      "cell_type": "code",
      "execution_count": null,
      "id": "obvious-employee",
      "metadata": {
        "colab": {
          "base_uri": "https://localhost:8080/"
        },
        "id": "obvious-employee",
        "outputId": "79f4563d-178e-4554-da89-9f6057fde678"
      },
      "outputs": [
        {
          "output_type": "stream",
          "name": "stdout",
          "text": [
            "Enter the price: 123\n",
            "<class 'str'>\n",
            "Price = 123\n",
            "<class 'int'>\n"
          ]
        }
      ],
      "source": [
        "price = input(\"Enter the price: \")\n",
        "print(type(price))\n",
        "price = int(price) \n",
        "print('Price =', price)\n",
        "print(type(price))"
      ]
    },
    {
      "cell_type": "code",
      "execution_count": null,
      "id": "abandoned-makeup",
      "metadata": {
        "colab": {
          "base_uri": "https://localhost:8080/"
        },
        "id": "abandoned-makeup",
        "outputId": "67620c81-c08a-411c-93fb-756c52501bce"
      },
      "outputs": [
        {
          "output_type": "stream",
          "name": "stdout",
          "text": [
            "hello10\n"
          ]
        }
      ],
      "source": [
        "c = 'hello' + str(10)\n",
        "print(c)"
      ]
    },
    {
      "cell_type": "code",
      "execution_count": null,
      "id": "alternate-latter",
      "metadata": {
        "colab": {
          "base_uri": "https://localhost:8080/"
        },
        "id": "alternate-latter",
        "outputId": "9c44f5a4-beff-40c1-aff8-dca3485a6da9"
      },
      "outputs": [
        {
          "output_type": "execute_result",
          "data": {
            "text/plain": [
              "str"
            ]
          },
          "metadata": {},
          "execution_count": 9
        }
      ],
      "source": [
        "type(c)"
      ]
    },
    {
      "cell_type": "code",
      "execution_count": null,
      "id": "featured-student",
      "metadata": {
        "colab": {
          "base_uri": "https://localhost:8080/"
        },
        "id": "featured-student",
        "outputId": "f9349f6b-aa5a-4e0f-d8e1-6a47e91b11ac"
      },
      "outputs": [
        {
          "output_type": "execute_result",
          "data": {
            "text/plain": [
              "7"
            ]
          },
          "metadata": {},
          "execution_count": 10
        }
      ],
      "source": [
        "len(c)"
      ]
    },
    {
      "cell_type": "code",
      "execution_count": null,
      "id": "brave-monroe",
      "metadata": {
        "colab": {
          "base_uri": "https://localhost:8080/"
        },
        "id": "brave-monroe",
        "outputId": "5c35b553-bc3e-4358-ed5e-ed559f506ec3"
      },
      "outputs": [
        {
          "output_type": "stream",
          "name": "stdout",
          "text": [
            "10 loops, best of 5: 143 ms per loop\n"
          ]
        }
      ],
      "source": [
        "import numpy as np\n",
        "B = np.random.rand(1000000)\n",
        "%timeit sum(B)"
      ]
    },
    {
      "cell_type": "code",
      "execution_count": null,
      "id": "quick-nickel",
      "metadata": {
        "colab": {
          "base_uri": "https://localhost:8080/"
        },
        "id": "quick-nickel",
        "outputId": "6b4b0e06-9466-4b84-a67e-42a8af857638"
      },
      "outputs": [
        {
          "output_type": "stream",
          "name": "stdout",
          "text": [
            "The slowest run took 8.72 times longer than the fastest. This could mean that an intermediate result is being cached.\n",
            "1000 loops, best of 5: 303 µs per loop\n"
          ]
        }
      ],
      "source": [
        "%timeit np.sum(B)"
      ]
    },
    {
      "cell_type": "code",
      "execution_count": null,
      "id": "recent-large",
      "metadata": {
        "colab": {
          "base_uri": "https://localhost:8080/"
        },
        "id": "recent-large",
        "outputId": "2396f687-fdea-48cb-91f1-b3b64d86eb6e"
      },
      "outputs": [
        {
          "output_type": "stream",
          "name": "stdout",
          "text": [
            "10 loops, best of 5: 181 ms per loop\n"
          ]
        }
      ],
      "source": [
        "%%timeit\n",
        "S=0\n",
        "for x in B:\n",
        "    S+=x"
      ]
    },
    {
      "cell_type": "code",
      "execution_count": null,
      "id": "intimate-vehicle",
      "metadata": {
        "colab": {
          "base_uri": "https://localhost:8080/"
        },
        "id": "intimate-vehicle",
        "outputId": "4251e89d-cf1d-44fd-b0ba-2ff3f4bd34a7"
      },
      "outputs": [
        {
          "output_type": "stream",
          "name": "stdout",
          "text": [
            "b is greater than a\n",
            "330\n",
            "20000\n"
          ]
        }
      ],
      "source": [
        "#use of if statement\n",
        "a = 330 \n",
        "b = 20000 \n",
        "if b > a:\n",
        "    print(\"b is greater than a\")\n",
        "print(a)\n",
        "print(b)"
      ]
    },
    {
      "cell_type": "code",
      "execution_count": null,
      "id": "announced-provider",
      "metadata": {
        "colab": {
          "base_uri": "https://localhost:8080/"
        },
        "id": "announced-provider",
        "outputId": "1cf6a25f-f4fb-4550-dce5-d5176ca542dc"
      },
      "outputs": [
        {
          "output_type": "stream",
          "name": "stdout",
          "text": [
            "x is greater than y\n"
          ]
        }
      ],
      "source": [
        "#use of if, elif and else\n",
        "x,y =12,10 \n",
        "if(x < y): \n",
        "    st= \"x is less than y\" \n",
        "elif (x == y):\n",
        "    st= \"x is same as y\" \n",
        "else: \n",
        "    st=\"x is greater than y\" \n",
        "print(st)\n"
      ]
    },
    {
      "cell_type": "code",
      "execution_count": null,
      "id": "egyptian-harrison",
      "metadata": {
        "colab": {
          "base_uri": "https://localhost:8080/"
        },
        "id": "egyptian-harrison",
        "outputId": "b3b423f3-c941-4ca9-93dd-ffd7a402598f"
      },
      "outputs": [
        {
          "output_type": "stream",
          "name": "stdout",
          "text": [
            "1\n",
            "2\n",
            "3\n",
            "4\n",
            "5\n",
            "5\n"
          ]
        }
      ],
      "source": [
        "#demo of list\n",
        "list=[1,2,3,4,5]\n",
        "for i in list:\n",
        "    print(i)\n",
        "    \n",
        "print(i)"
      ]
    },
    {
      "cell_type": "code",
      "execution_count": null,
      "id": "specialized-jaguar",
      "metadata": {
        "colab": {
          "base_uri": "https://localhost:8080/"
        },
        "id": "specialized-jaguar",
        "outputId": "6c083180-e308-4d91-d215-eab406a97cf0"
      },
      "outputs": [
        {
          "output_type": "stream",
          "name": "stdout",
          "text": [
            "5\n",
            "6\n",
            "7\n",
            "8\n",
            "9\n"
          ]
        }
      ],
      "source": [
        "#demo of while\n",
        "while (i<10) :\n",
        "    print(i)\n",
        "    i = i+1"
      ]
    },
    {
      "cell_type": "code",
      "execution_count": null,
      "id": "sharp-german",
      "metadata": {
        "colab": {
          "base_uri": "https://localhost:8080/"
        },
        "id": "sharp-german",
        "outputId": "9c2ec433-6de4-4c11-ae7d-33448d505690"
      },
      "outputs": [
        {
          "output_type": "execute_result",
          "data": {
            "text/plain": [
              "range(3, 7)"
            ]
          },
          "metadata": {},
          "execution_count": 33
        }
      ],
      "source": [
        "#demo of range function\n",
        "range(3,7)"
      ]
    },
    {
      "cell_type": "code",
      "execution_count": null,
      "id": "aboriginal-registrar",
      "metadata": {
        "colab": {
          "base_uri": "https://localhost:8080/"
        },
        "id": "aboriginal-registrar",
        "outputId": "f8d144fb-8114-44f8-b121-27fc043cc332"
      },
      "outputs": [
        {
          "output_type": "execute_result",
          "data": {
            "text/plain": [
              "range(13, 7)"
            ]
          },
          "metadata": {},
          "execution_count": 19
        }
      ],
      "source": [
        "li = range(13,7) \n",
        "li"
      ]
    },
    {
      "cell_type": "code",
      "execution_count": null,
      "id": "junior-drove",
      "metadata": {
        "colab": {
          "base_uri": "https://localhost:8080/"
        },
        "id": "junior-drove",
        "outputId": "8629b565-f284-4d2a-c597-89eef2c07303"
      },
      "outputs": [
        {
          "output_type": "stream",
          "name": "stdout",
          "text": [
            "range(13, 7)\n"
          ]
        }
      ],
      "source": [
        "print(li)"
      ]
    },
    {
      "cell_type": "code",
      "execution_count": null,
      "id": "circular-tourism",
      "metadata": {
        "colab": {
          "base_uri": "https://localhost:8080/"
        },
        "id": "circular-tourism",
        "outputId": "35055fbe-dca2-4040-f747-0c28fd4ce964"
      },
      "outputs": [
        {
          "output_type": "stream",
          "name": "stdout",
          "text": [
            "5\n",
            "7\n",
            "9\n",
            "11\n",
            "13\n",
            "15\n"
          ]
        }
      ],
      "source": [
        "#demo of for loop\n",
        "for i in range(5,17,2):\n",
        "    print(i)"
      ]
    },
    {
      "cell_type": "code",
      "execution_count": null,
      "id": "animal-philosophy",
      "metadata": {
        "colab": {
          "base_uri": "https://localhost:8080/"
        },
        "id": "animal-philosophy",
        "outputId": "c6e363ae-f303-440f-d7d4-19a8183209d6"
      },
      "outputs": [
        {
          "output_type": "stream",
          "name": "stdout",
          "text": [
            "0\n",
            "1\n",
            "2\n",
            "3\n",
            "4\n",
            "5\n",
            "6\n",
            "7\n",
            "8\n",
            "9\n"
          ]
        }
      ],
      "source": [
        "#demo-2 of for loop\n",
        "for i in range(10):\n",
        "    print(i)"
      ]
    },
    {
      "cell_type": "code",
      "execution_count": null,
      "id": "reserved-offset",
      "metadata": {
        "colab": {
          "base_uri": "https://localhost:8080/"
        },
        "id": "reserved-offset",
        "outputId": "dc07a581-e57f-49ae-8dd1-45be980fc501"
      },
      "outputs": [
        {
          "output_type": "stream",
          "name": "stdout",
          "text": [
            "1\n",
            "2\n",
            "3\n",
            "4\n",
            "5\n",
            "6\n",
            "7\n",
            "8\n",
            "9\n",
            "10\n"
          ]
        }
      ],
      "source": [
        "for i in range(10):\n",
        "    i=i+1\n",
        "    print(i)"
      ]
    },
    {
      "cell_type": "code",
      "execution_count": null,
      "id": "foreign-baptist",
      "metadata": {
        "colab": {
          "base_uri": "https://localhost:8080/"
        },
        "id": "foreign-baptist",
        "outputId": "01261234-e70a-45bf-aca7-c2472cea7939"
      },
      "outputs": [
        {
          "output_type": "stream",
          "name": "stdout",
          "text": [
            "1\n",
            "2\n",
            "3\n",
            "4\n",
            "5\n",
            "6\n",
            "7\n"
          ]
        }
      ],
      "source": [
        "li = [1,2,3,4,5,6,7]\n",
        "j = 0\n",
        "for i in li:\n",
        "    print(i)"
      ]
    },
    {
      "cell_type": "code",
      "execution_count": null,
      "id": "structural-subcommittee",
      "metadata": {
        "colab": {
          "base_uri": "https://localhost:8080/"
        },
        "id": "structural-subcommittee",
        "outputId": "79c03948-b756-4f01-a749-3e1824312377"
      },
      "outputs": [
        {
          "output_type": "stream",
          "name": "stdout",
          "text": [
            "0\n",
            "<class 'int'>\n"
          ]
        }
      ],
      "source": [
        "print(j)\n",
        "print(type(j))"
      ]
    },
    {
      "cell_type": "code",
      "execution_count": null,
      "id": "cleared-employee",
      "metadata": {
        "colab": {
          "base_uri": "https://localhost:8080/"
        },
        "id": "cleared-employee",
        "outputId": "58bf7757-aab8-47a4-fda0-48d25a55fa18"
      },
      "outputs": [
        {
          "output_type": "stream",
          "name": "stdout",
          "text": [
            "7\n",
            "6\n",
            "5\n"
          ]
        }
      ],
      "source": [
        "length = len(li)\n",
        "while length >= 3:\n",
        "    print(length)\n",
        "    if length <= 5:\n",
        "        break\n",
        "    length = length - 1        "
      ]
    },
    {
      "cell_type": "code",
      "execution_count": null,
      "id": "leading-slovakia",
      "metadata": {
        "colab": {
          "base_uri": "https://localhost:8080/"
        },
        "id": "leading-slovakia",
        "outputId": "dba9d2cd-da14-4001-dd90-6c86bbae50ed"
      },
      "outputs": [
        {
          "output_type": "stream",
          "name": "stdout",
          "text": [
            "6\n"
          ]
        }
      ],
      "source": [
        "length = len(li)\n",
        "while length >= 3:    \n",
        "    length = length - 1 \n",
        "    if length <= 5:\n",
        "        continue\n",
        "    print(length)"
      ]
    },
    {
      "cell_type": "code",
      "execution_count": null,
      "id": "sunrise-paragraph",
      "metadata": {
        "colab": {
          "base_uri": "https://localhost:8080/"
        },
        "id": "sunrise-paragraph",
        "outputId": "46749beb-2361-40af-84e5-8eaae1232cbd"
      },
      "outputs": [
        {
          "output_type": "stream",
          "name": "stdout",
          "text": [
            "7\n",
            "14\n",
            "21\n",
            "28\n",
            "35\n",
            "42\n",
            "49\n",
            "49\n"
          ]
        }
      ],
      "source": [
        "li = [1,2,3,4,5,6,7]\n",
        "j = 0\n",
        "for i in li:\n",
        "    for i in li:\n",
        "        i=i+1\n",
        "        j=j+1\n",
        "    print(j)\n",
        "print(j)"
      ]
    },
    {
      "cell_type": "code",
      "execution_count": null,
      "id": "brilliant-hurricane",
      "metadata": {
        "colab": {
          "base_uri": "https://localhost:8080/"
        },
        "id": "brilliant-hurricane",
        "outputId": "acbaeedc-6aee-4677-fbbd-0267014b008a"
      },
      "outputs": [
        {
          "output_type": "stream",
          "name": "stdout",
          "text": [
            "x? 12\n",
            "y? 14\n",
            "x is less than y\n"
          ]
        }
      ],
      "source": [
        "#example of for if, elif and else\n",
        "x = int(input(\"x? \"))\n",
        "y = int(input(\"y? \"))\n",
        "if x < y: \n",
        "    print('x is less than y') \n",
        "elif x > y: \n",
        "    print('x is greater than y') \n",
        "else: \n",
        "    print('x and y are equal')\n"
      ]
    },
    {
      "cell_type": "code",
      "execution_count": null,
      "id": "strong-beauty",
      "metadata": {
        "id": "strong-beauty"
      },
      "outputs": [],
      "source": [
        "highest = 0\n",
        "for value in [9, 41, 12, 3, 74, 15] :\n",
        "    if value > highest:\n",
        "        highest = value \n",
        "        \n",
        "print('highest' , highest)\n"
      ]
    },
    {
      "cell_type": "code",
      "execution_count": null,
      "id": "random-brooks",
      "metadata": {
        "id": "random-brooks"
      },
      "outputs": [],
      "source": [
        "list = [9, 41, 12, 3, 74, 15]\n",
        "print(list[4])"
      ]
    },
    {
      "cell_type": "code",
      "execution_count": null,
      "id": "needed-community",
      "metadata": {
        "id": "needed-community"
      },
      "outputs": [],
      "source": [
        "list = [9, 41, 12, 3, 74, 15]\n",
        "smallest = list[0]\n",
        "for value in list :\n",
        "    if value < smallest:\n",
        "        smallest = value \n",
        "        \n",
        "print('smallest' , smallest)"
      ]
    },
    {
      "cell_type": "code",
      "execution_count": null,
      "id": "accomplished-twist",
      "metadata": {
        "id": "accomplished-twist"
      },
      "outputs": [],
      "source": [
        "smallest = None\n",
        "for value in [9, 41, 12, 3, 74, 15,103,305, 7 , 102.5, 167.44,1] : \n",
        "     if smallest is None : \n",
        "         smallest = value   \n",
        "     elif value < smallest : \n",
        "         smallest = value   \n",
        "     #print(smallest, value)\n",
        "print('After', smallest)"
      ]
    },
    {
      "cell_type": "code",
      "execution_count": null,
      "id": "nearby-diameter",
      "metadata": {
        "id": "nearby-diameter"
      },
      "outputs": [],
      "source": [
        "def average(numbers):\n",
        "    total = 0\n",
        "    for num in numbers:\n",
        "        total = total + num\n",
        "    avg = total/len(numbers)\n",
        "    return avg, total\n",
        "def main():\n",
        "    prices = [29, 21, 55, 10, 12,16,190,347,1024, 9403, 125, 341942, 20394, 109236, 3470, 5732, 1293, 10039,5783]\n",
        "    result, tot = average(prices)\n",
        "    print(tot)\n",
        "    print(result)\n",
        "main()"
      ]
    },
    {
      "cell_type": "code",
      "execution_count": null,
      "id": "aboriginal-findings",
      "metadata": {
        "id": "aboriginal-findings",
        "outputId": "7889f867-c681-4e94-9a7d-e5057cc4ff9a"
      },
      "outputs": [
        {
          "name": "stdout",
          "output_type": "stream",
          "text": [
            "25\n",
            "28.75\n"
          ]
        }
      ],
      "source": [
        "def average(numbers):\n",
        "    total = 0\n",
        "    for num in numbers:\n",
        "        total = total + num\n",
        "    avg = total/len(numbers)\n",
        "    return avg\n",
        "def main():\n",
        "    prices = [29, 21, 55, 10]\n",
        "    result = average(prices)\n",
        "    print(order_goal)\n",
        "    print(result)\n",
        "\n",
        "main()\n",
        "order_goal = 25"
      ]
    },
    {
      "cell_type": "code",
      "execution_count": null,
      "id": "spiritual-viking",
      "metadata": {
        "colab": {
          "base_uri": "https://localhost:8080/"
        },
        "id": "spiritual-viking",
        "outputId": "4f0010c5-aef2-4a34-c7bf-c0c3d569a8d4"
      },
      "outputs": [
        {
          "output_type": "stream",
          "name": "stdout",
          "text": [
            "11\n",
            "12\n",
            "13\n",
            "14\n",
            "16\n",
            "17\n",
            "18\n",
            "19\n",
            "20\n"
          ]
        }
      ],
      "source": [
        "#demo for jump statement \"continue\"\n",
        "a = 10\n",
        "while a < 20 :\n",
        "    a += 1\n",
        "    if(a == 15):\n",
        "        continue    \n",
        "    print(a)\n",
        "    "
      ]
    },
    {
      "cell_type": "code",
      "execution_count": null,
      "id": "clear-justice",
      "metadata": {
        "id": "clear-justice"
      },
      "outputs": [],
      "source": [
        ""
      ]
    }
  ],
  "metadata": {
    "kernelspec": {
      "display_name": "Python 3 (ipykernel)",
      "language": "python",
      "name": "python3"
    },
    "language_info": {
      "codemirror_mode": {
        "name": "ipython",
        "version": 3
      },
      "file_extension": ".py",
      "mimetype": "text/x-python",
      "name": "python",
      "nbconvert_exporter": "python",
      "pygments_lexer": "ipython3",
      "version": "3.9.7"
    },
    "colab": {
      "name": "demo1.ipynb",
      "provenance": [],
      "collapsed_sections": [],
      "include_colab_link": true
    }
  },
  "nbformat": 4,
  "nbformat_minor": 5
}