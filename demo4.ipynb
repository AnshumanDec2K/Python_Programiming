{
  "cells": [
    {
      "cell_type": "markdown",
      "metadata": {
        "id": "view-in-github",
        "colab_type": "text"
      },
      "source": [
        "<a href=\"https://colab.research.google.com/github/AnshumanDec2K/Python_Programming/blob/main/demo4.ipynb\" target=\"_parent\"><img src=\"https://colab.research.google.com/assets/colab-badge.svg\" alt=\"Open In Colab\"/></a>"
      ]
    },
    {
      "cell_type": "markdown",
      "source": [
        "# **This Notebook has the demo for string formatting**"
      ],
      "metadata": {
        "id": "MyyqnGsXw8Wu"
      }
    },
    {
      "cell_type": "markdown",
      "metadata": {
        "id": "jvV1eNaIwzCJ"
      },
      "source": [
        "## Formatting with placeholders\n",
        "You can use <code>%s</code> to inject strings into your print statements. The modulo `%` is referred to as a \"string formatting operator\"."
      ]
    },
    {
      "cell_type": "code",
      "execution_count": 1,
      "metadata": {
        "colab": {
          "base_uri": "https://localhost:8080/"
        },
        "id": "t--VdeTywzCN",
        "outputId": "87df7374-cb36-4c75-836d-2eeeb578145b"
      },
      "outputs": [
        {
          "output_type": "stream",
          "name": "stdout",
          "text": [
            "I'm going to inject something here.\n"
          ]
        }
      ],
      "source": [
        "print(\"I'm going to inject %s here.\" %'something')"
      ]
    },
    {
      "cell_type": "markdown",
      "metadata": {
        "id": "by1cM5fUwzCP"
      },
      "source": [
        "You can pass multiple items by placing them inside a tuple after the `%` operator."
      ]
    },
    {
      "cell_type": "code",
      "execution_count": 2,
      "metadata": {
        "colab": {
          "base_uri": "https://localhost:8080/"
        },
        "id": "zN8OvwmuwzCP",
        "outputId": "b914ba1e-60ba-4cb4-8418-d1574014b476"
      },
      "outputs": [
        {
          "output_type": "stream",
          "name": "stdout",
          "text": [
            "I'm going to inject some text here, and more text here.\n"
          ]
        }
      ],
      "source": [
        "print(\"I'm going to inject %s text here, and %s text here.\" %('some','more'))"
      ]
    },
    {
      "cell_type": "markdown",
      "metadata": {
        "id": "1GlgR81RwzCQ"
      },
      "source": [
        "You can also pass variable names:"
      ]
    },
    {
      "cell_type": "code",
      "execution_count": 3,
      "metadata": {
        "colab": {
          "base_uri": "https://localhost:8080/"
        },
        "id": "sDDoKaLDwzCQ",
        "outputId": "7acba84a-46a0-4cde-cf30-c2db7da17b6d"
      },
      "outputs": [
        {
          "output_type": "stream",
          "name": "stdout",
          "text": [
            "I'm going to inject some text here, and more text here.\n"
          ]
        }
      ],
      "source": [
        "x, y = 'some', 'more'\n",
        "print(\"I'm going to inject %s text here, and %s text here.\"%(x,y))"
      ]
    },
    {
      "cell_type": "markdown",
      "metadata": {
        "id": "tYfbjXumwzCR"
      },
      "source": [
        "### Format conversion methods.\n",
        "It should be noted that two methods <code>%s</code> and <code>%r</code> convert any python object to a string using two separate methods: `str()` and `repr()`. We will learn more about these functions later on in the course, but you should note that `%r` and `repr()` deliver the *string representation* of the object, including quotation marks and any escape characters."
      ]
    },
    {
      "cell_type": "code",
      "execution_count": 4,
      "metadata": {
        "colab": {
          "base_uri": "https://localhost:8080/"
        },
        "id": "s2nj-zAkwzCS",
        "outputId": "05fd3c8e-882b-4d54-ea9b-0b6cbcb60a67"
      },
      "outputs": [
        {
          "output_type": "stream",
          "name": "stdout",
          "text": [
            "He said his name was Fred.\n",
            "He said his name was 'Fred'.\n"
          ]
        }
      ],
      "source": [
        "print('He said his name was %s.' %'Fred')\n",
        "print('He said his name was %r.' %'Fred')"
      ]
    },
    {
      "cell_type": "markdown",
      "metadata": {
        "id": "RYGNPxiawzCS"
      },
      "source": [
        "As another example, `\\t` inserts a tab into a string."
      ]
    },
    {
      "cell_type": "code",
      "execution_count": 5,
      "metadata": {
        "colab": {
          "base_uri": "https://localhost:8080/"
        },
        "id": "pIhkvdlvwzCT",
        "outputId": "8e25979e-cfc5-46c3-cd6e-4f1ee9be2e40"
      },
      "outputs": [
        {
          "output_type": "stream",
          "name": "stdout",
          "text": [
            "I once caught a fish this \tbig.\n",
            "I once caught a fish 'this \\tbig'.\n"
          ]
        }
      ],
      "source": [
        "print('I once caught a fish %s.' %'this \\tbig')\n",
        "print('I once caught a fish %r.' %'this \\tbig')"
      ]
    },
    {
      "cell_type": "markdown",
      "metadata": {
        "id": "CXJXCvvqwzCU"
      },
      "source": [
        "The `%s` operator converts whatever it sees into a string, including integers and floats. The `%d` operator converts numbers to integers first, without rounding. Note the difference below:"
      ]
    },
    {
      "cell_type": "code",
      "execution_count": 6,
      "metadata": {
        "colab": {
          "base_uri": "https://localhost:8080/"
        },
        "id": "LHprBCjQwzCU",
        "outputId": "8436765f-45b1-4d40-f162-224f9c0d6d1d"
      },
      "outputs": [
        {
          "output_type": "stream",
          "name": "stdout",
          "text": [
            "I wrote 3.75 programs today.\n",
            "I wrote 3 programs today.\n"
          ]
        }
      ],
      "source": [
        "print('I wrote %s programs today.' %3.75)\n",
        "print('I wrote %d programs today.' %3.75)   "
      ]
    },
    {
      "cell_type": "markdown",
      "metadata": {
        "id": "e8im5K8mwzCV"
      },
      "source": [
        "### Padding and Precision of Floating Point Numbers\n",
        "Floating point numbers use the format <code>%5.2f</code>. Here, <code>5</code> would be the minimum number of characters the string should contain; these may be padded with whitespace if the entire number does not have this many digits. Next to this, <code>.2f</code> stands for how many numbers to show past the decimal point. Let's see some examples:"
      ]
    },
    {
      "cell_type": "code",
      "execution_count": 7,
      "metadata": {
        "colab": {
          "base_uri": "https://localhost:8080/"
        },
        "id": "PXB_6q_iwzCV",
        "outputId": "e5cd37f1-98be-4aff-bec7-dd66824a30c9"
      },
      "outputs": [
        {
          "output_type": "stream",
          "name": "stdout",
          "text": [
            "Floating point numbers: 188888883.14\n"
          ]
        }
      ],
      "source": [
        "print('Floating point numbers: %5.2f' %(188888883.14))"
      ]
    },
    {
      "cell_type": "code",
      "execution_count": 8,
      "metadata": {
        "colab": {
          "base_uri": "https://localhost:8080/"
        },
        "id": "l40GhOg-wzCW",
        "outputId": "bf7471ef-2b8d-4815-e782-2967d121dcd4"
      },
      "outputs": [
        {
          "output_type": "stream",
          "name": "stdout",
          "text": [
            "Floating point numbers: 13\n"
          ]
        }
      ],
      "source": [
        "print('Floating point numbers: %1.0f' %(13.144))"
      ]
    },
    {
      "cell_type": "code",
      "execution_count": 9,
      "metadata": {
        "colab": {
          "base_uri": "https://localhost:8080/"
        },
        "id": "CM8kmpH3wzCW",
        "outputId": "5b534658-4370-4d9f-8fb5-ec05b97b5f54"
      },
      "outputs": [
        {
          "output_type": "stream",
          "name": "stdout",
          "text": [
            "Floating point numbers: 13.14400\n"
          ]
        }
      ],
      "source": [
        "print('Floating point numbers: %1.5f' %(13.144))"
      ]
    },
    {
      "cell_type": "code",
      "execution_count": 10,
      "metadata": {
        "colab": {
          "base_uri": "https://localhost:8080/"
        },
        "id": "J7rohE_zwzCW",
        "outputId": "ea921178-5875-4efd-86f6-ba9a115c6f32"
      },
      "outputs": [
        {
          "output_type": "stream",
          "name": "stdout",
          "text": [
            "Floating point numbers:      13.14\n"
          ]
        }
      ],
      "source": [
        "print('Floating point numbers: %10.2f' %(13.144))"
      ]
    },
    {
      "cell_type": "code",
      "execution_count": 11,
      "metadata": {
        "colab": {
          "base_uri": "https://localhost:8080/"
        },
        "id": "1c_xndAawzCX",
        "outputId": "3c023dcc-bf68-44d7-b61a-5a1726841366"
      },
      "outputs": [
        {
          "output_type": "stream",
          "name": "stdout",
          "text": [
            "Floating point numbers:                     13.14\n"
          ]
        }
      ],
      "source": [
        "print('Floating point numbers: %25.2f' %(13.144))"
      ]
    },
    {
      "cell_type": "markdown",
      "metadata": {
        "id": "Oxl3-wLKwzCX"
      },
      "source": [
        "### Multiple Formatting\n",
        "Nothing prohibits using more than one conversion tool in the same print statement:"
      ]
    },
    {
      "cell_type": "code",
      "execution_count": 12,
      "metadata": {
        "colab": {
          "base_uri": "https://localhost:8080/"
        },
        "id": "F4BPc9MbwzCX",
        "outputId": "98c6352d-3de8-43dc-c685-4132bd38167e"
      },
      "outputs": [
        {
          "output_type": "stream",
          "name": "stdout",
          "text": [
            "First: hi!, Second:  3.14, Third: 'bye!'\n"
          ]
        }
      ],
      "source": [
        "print('First: %s, Second: %5.2f, Third: %r' %('hi!',3.1415,'bye!'))"
      ]
    },
    {
      "cell_type": "markdown",
      "metadata": {
        "id": "XDLhYZpuwzCY"
      },
      "source": [
        "## Formatting with the `.format()` method\n",
        "A better way to format objects into your strings for print statements is with the string `.format()` method. The syntax is:\n",
        "\n",
        "    'String here {} then also {}'.format('something1','something2')\n",
        "    \n",
        "For example:"
      ]
    },
    {
      "cell_type": "code",
      "execution_count": 13,
      "metadata": {
        "colab": {
          "base_uri": "https://localhost:8080/"
        },
        "id": "fwkHuJ-cwzCY",
        "outputId": "cbf79dad-bc1a-4fc4-8eb8-d1f82a93234c"
      },
      "outputs": [
        {
          "output_type": "stream",
          "name": "stdout",
          "text": [
            "This is a string with an insert\n"
          ]
        }
      ],
      "source": [
        "print('This is a string with an {}'.format('insert'))"
      ]
    },
    {
      "cell_type": "markdown",
      "metadata": {
        "id": "QOXWah8OwzCZ"
      },
      "source": [
        "### The .format() method has several advantages over the %s placeholder method:"
      ]
    },
    {
      "cell_type": "markdown",
      "metadata": {
        "id": "f5XLxisywzCZ"
      },
      "source": [
        "#### 1. Inserted objects can be called by index position:"
      ]
    },
    {
      "cell_type": "code",
      "execution_count": 14,
      "metadata": {
        "colab": {
          "base_uri": "https://localhost:8080/"
        },
        "id": "uTAJGNxgwzCa",
        "outputId": "43f79458-afa8-4aac-9ada-aa08c63ddf83"
      },
      "outputs": [
        {
          "output_type": "stream",
          "name": "stdout",
          "text": [
            "The quick brown fox\n"
          ]
        }
      ],
      "source": [
        "print('The {2} {1} {0}'.format('fox','brown','quick'))"
      ]
    },
    {
      "cell_type": "markdown",
      "metadata": {
        "id": "NiknfZ8awzCa"
      },
      "source": [
        "#### 2. Inserted objects can be assigned keywords:"
      ]
    },
    {
      "cell_type": "code",
      "execution_count": 15,
      "metadata": {
        "colab": {
          "base_uri": "https://localhost:8080/"
        },
        "id": "NGveeAyuwzCa",
        "outputId": "67a347c3-1bb5-4122-8bf6-f5489c7f197e"
      },
      "outputs": [
        {
          "output_type": "stream",
          "name": "stdout",
          "text": [
            "First Object: 1, Second Object: Two, Third Object: 12.3\n"
          ]
        }
      ],
      "source": [
        "print('First Object: {a}, Second Object: {b}, Third Object: {c}'.format(a=1,b='Two',c=12.3))"
      ]
    },
    {
      "cell_type": "markdown",
      "metadata": {
        "id": "NswYl5wAwzCa"
      },
      "source": [
        "#### 3. Inserted objects can be reused, avoiding duplication:"
      ]
    },
    {
      "cell_type": "code",
      "execution_count": 16,
      "metadata": {
        "colab": {
          "base_uri": "https://localhost:8080/"
        },
        "id": "jsWE2a3HwzCa",
        "outputId": "4f301907-3b81-41f2-b869-382a3534c816"
      },
      "outputs": [
        {
          "output_type": "stream",
          "name": "stdout",
          "text": [
            "A penny saved is a penny earned.\n",
            "A penny saved is a penny earned.\n"
          ]
        }
      ],
      "source": [
        "print('A %s saved is a %s earned.' %('penny','penny'))\n",
        "# vs.\n",
        "print('A {p} saved is a {p} earned.'.format(p='penny'))"
      ]
    },
    {
      "cell_type": "markdown",
      "metadata": {
        "id": "Vqlk_PzSwzCb"
      },
      "source": [
        "### Alignment, padding and precision with `.format()`\n",
        "Within the curly braces you can assign field lengths, left/right alignments, rounding parameters and more"
      ]
    },
    {
      "cell_type": "code",
      "execution_count": 17,
      "metadata": {
        "colab": {
          "base_uri": "https://localhost:8080/"
        },
        "id": "6Qz31EdOwzCb",
        "outputId": "a3a69c26-3704-4bae-d742-bf83ec877fa3"
      },
      "outputs": [
        {
          "output_type": "stream",
          "name": "stdout",
          "text": [
            "Fruit    | Quantity \n",
            "Apples   |       3.0\n",
            "Oranges  |        10\n"
          ]
        }
      ],
      "source": [
        "print('{0:8} | {1:9}'.format('Fruit', 'Quantity'))\n",
        "print('{0:8} | {1:9}'.format('Apples', 3.))\n",
        "print('{0:8} | {1:9}'.format('Oranges', 10))"
      ]
    },
    {
      "cell_type": "markdown",
      "metadata": {
        "id": "XP2ZEFMJwzCb"
      },
      "source": [
        "By default, `.format()` aligns text to the left, numbers to the right. You can pass an optional `<`,`^`, or `>` to set a left, center or right alignment:"
      ]
    },
    {
      "cell_type": "code",
      "execution_count": 18,
      "metadata": {
        "colab": {
          "base_uri": "https://localhost:8080/"
        },
        "id": "QTrhwZdpwzCb",
        "outputId": "78514392-cb45-4d3b-9b37-f41b506c23f3"
      },
      "outputs": [
        {
          "output_type": "stream",
          "name": "stdout",
          "text": [
            "Left     |  Center  |    Right\n",
            "11       |    22    |       33\n"
          ]
        }
      ],
      "source": [
        "print('{0:<8} | {1:^8} | {2:>8}'.format('Left','Center','Right'))\n",
        "print('{0:<8} | {1:^8} | {2:>8}'.format(11,22,33))"
      ]
    },
    {
      "cell_type": "markdown",
      "metadata": {
        "id": "DyHMq4pIwzCc"
      },
      "source": [
        "You can precede the aligment operator with a padding character"
      ]
    },
    {
      "cell_type": "code",
      "execution_count": 19,
      "metadata": {
        "colab": {
          "base_uri": "https://localhost:8080/"
        },
        "id": "0vWrd96rwzCc",
        "outputId": "43ae13f7-91bb-4615-feb8-78e24ca14711"
      },
      "outputs": [
        {
          "output_type": "stream",
          "name": "stdout",
          "text": [
            "Left==== | -Center- | ...Right\n",
            "11====== | ---22--- | ......33\n"
          ]
        }
      ],
      "source": [
        "print('{0:=<8} | {1:-^8} | {2:.>8}'.format('Left','Center','Right'))\n",
        "print('{0:=<8} | {1:-^8} | {2:.>8}'.format(11,22,33))"
      ]
    },
    {
      "cell_type": "markdown",
      "metadata": {
        "id": "78u7VNaLwzCc"
      },
      "source": [
        "Field widths and float precision are handled in a way similar to placeholders. The following two print statements are equivalent:"
      ]
    },
    {
      "cell_type": "code",
      "execution_count": 20,
      "metadata": {
        "colab": {
          "base_uri": "https://localhost:8080/"
        },
        "id": "TOLG522mwzCc",
        "outputId": "776cfbc6-9855-4683-c5bc-e53a4288df5a"
      },
      "outputs": [
        {
          "output_type": "stream",
          "name": "stdout",
          "text": [
            "This is my ten-character, two-decimal number:     13.58\n",
            "This is my ten-character, two-decimal number:     13.58\n"
          ]
        }
      ],
      "source": [
        "print('This is my ten-character, two-decimal number:%10.2f' %13.579)\n",
        "print('This is my ten-character, two-decimal number:{0:10.2f}'.format(13.579))"
      ]
    },
    {
      "cell_type": "markdown",
      "metadata": {
        "id": "t5s9NFxdwzCc"
      },
      "source": [
        "Note that there are 5 spaces following the colon, and 5 characters taken up by 13.58, for a total of ten characters."
      ]
    },
    {
      "cell_type": "markdown",
      "metadata": {
        "id": "fthfi0tJwzCd"
      },
      "source": [
        "## Formatted String Literals (f-strings)"
      ]
    },
    {
      "cell_type": "markdown",
      "metadata": {
        "id": "hUGADDH3wzCd"
      },
      "source": [
        "Introduced in Python 3.6, f-strings offer several benefits over the older `.format()` string method described above. For one, you can bring outside variables immediately into to the string rather than pass them as arguments through `.format(var)`."
      ]
    },
    {
      "cell_type": "code",
      "execution_count": 21,
      "metadata": {
        "colab": {
          "base_uri": "https://localhost:8080/"
        },
        "id": "br-3yzihwzCd",
        "outputId": "e9fa4b74-e910-4bf0-f600-d9d711a05d2b"
      },
      "outputs": [
        {
          "output_type": "stream",
          "name": "stdout",
          "text": [
            "He said his name is Fred.\n"
          ]
        }
      ],
      "source": [
        "name = 'Fred'\n",
        "\n",
        "print(f\"He said his name is {name}.\")"
      ]
    },
    {
      "cell_type": "markdown",
      "metadata": {
        "id": "q2f19umuwzCd"
      },
      "source": [
        "Pass `!r` to get the string representation:"
      ]
    },
    {
      "cell_type": "code",
      "execution_count": 22,
      "metadata": {
        "colab": {
          "base_uri": "https://localhost:8080/"
        },
        "id": "JUpjS26KwzCd",
        "outputId": "a0d465f0-5c76-4ad2-d9f4-c899c9542b78"
      },
      "outputs": [
        {
          "output_type": "stream",
          "name": "stdout",
          "text": [
            "He said his name is 'Fred'\n"
          ]
        }
      ],
      "source": [
        "print(f\"He said his name is {name!r}\")"
      ]
    },
    {
      "cell_type": "markdown",
      "metadata": {
        "id": "LOp5ZyGtwzCe"
      },
      "source": [
        "#### Float formatting follows `\"result: {value:{width}.{precision}}\"`"
      ]
    },
    {
      "cell_type": "markdown",
      "metadata": {
        "id": "OdV4y0DvwzCe"
      },
      "source": [
        "Where with the `.format()` method you might see `{value:10.4f}`, with f-strings this can become `{value:{10}.{6}}`\n"
      ]
    },
    {
      "cell_type": "code",
      "execution_count": 23,
      "metadata": {
        "colab": {
          "base_uri": "https://localhost:8080/"
        },
        "id": "J1ZnqZ4KwzCe",
        "outputId": "714ac4a9-9caa-4e3a-c2df-528b711fe44e"
      },
      "outputs": [
        {
          "output_type": "stream",
          "name": "stdout",
          "text": [
            "My 10 character, four decimal number is:   23.4568\n",
            "My 10 character, four decimal number is:   23.4568\n"
          ]
        }
      ],
      "source": [
        "num = 23.45678\n",
        "print(\"My 10 character, four decimal number is:{0:10.4f}\".format(num))\n",
        "print(f\"My 10 character, four decimal number is:{num:{10}.{6}}\")"
      ]
    },
    {
      "cell_type": "markdown",
      "metadata": {
        "id": "GbDiUMUrwzCe"
      },
      "source": [
        "Note that with f-strings, *precision* refers to the total number of digits, not just those following the decimal. This fits more closely with scientific notation and statistical analysis. Unfortunately, f-strings do not pad to the right of the decimal, even if precision allows it:"
      ]
    },
    {
      "cell_type": "code",
      "execution_count": 24,
      "metadata": {
        "colab": {
          "base_uri": "https://localhost:8080/"
        },
        "id": "4anCdIo2wzCe",
        "outputId": "2525b3ec-3ef3-4b22-a95c-af35bf8e377b"
      },
      "outputs": [
        {
          "output_type": "stream",
          "name": "stdout",
          "text": [
            "My 10 character, four decimal number is:   23.4500\n",
            "My 10 character, four decimal number is:     23.45\n"
          ]
        }
      ],
      "source": [
        "num = 23.45\n",
        "print(\"My 10 character, four decimal number is:{0:10.4f}\".format(num))\n",
        "print(f\"My 10 character, four decimal number is:{num:{10}.{6}}\")"
      ]
    },
    {
      "cell_type": "markdown",
      "metadata": {
        "id": "tQ4z2PWrwzCe"
      },
      "source": [
        "If this becomes important, you can always use `.format()` method syntax inside an f-string:"
      ]
    },
    {
      "cell_type": "code",
      "execution_count": 25,
      "metadata": {
        "colab": {
          "base_uri": "https://localhost:8080/"
        },
        "id": "WPfera9LwzCf",
        "outputId": "cc94673a-902f-4552-abd3-c501dcce41b1"
      },
      "outputs": [
        {
          "output_type": "stream",
          "name": "stdout",
          "text": [
            "My 10 character, four decimal number is:   23.4500\n",
            "My 10 character, four decimal number is:   23.4500\n"
          ]
        }
      ],
      "source": [
        "num = 23.45\n",
        "print(\"My 10 character, four decimal number is:{0:10.4f}\".format(num))\n",
        "print(f\"My 10 character, four decimal number is:{num:10.4f}\")"
      ]
    }
  ],
  "metadata": {
    "kernelspec": {
      "display_name": "Python 3 (ipykernel)",
      "language": "python",
      "name": "python3"
    },
    "language_info": {
      "codemirror_mode": {
        "name": "ipython",
        "version": 3
      },
      "file_extension": ".py",
      "mimetype": "text/x-python",
      "name": "python",
      "nbconvert_exporter": "python",
      "pygments_lexer": "ipython3",
      "version": "3.9.7"
    },
    "colab": {
      "name": "demo4.ipynb",
      "provenance": [],
      "collapsed_sections": [],
      "include_colab_link": true
    }
  },
  "nbformat": 4,
  "nbformat_minor": 0
}